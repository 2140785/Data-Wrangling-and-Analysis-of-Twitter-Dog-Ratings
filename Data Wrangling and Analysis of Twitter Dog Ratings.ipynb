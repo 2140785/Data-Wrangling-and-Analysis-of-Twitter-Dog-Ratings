{
 "cells": [
  {
   "cell_type": "markdown",
   "id": "3750f277",
   "metadata": {},
   "source": [
    "# Data Wrangling and Analysis of Twitter Dog Ratings"
   ]
  },
  {
   "cell_type": "markdown",
   "metadata": {},
   "source": [
    "## Problem Statement\n",
    "In this project, we will be working with two datasets: the WeRateDogs Twitter archive data and the Labor Market data. The WeRateDogs dataset is a collection of tweets with dog ratings, including information such as tweet text, timestamp, source, expanded URLs, dog rating out of ten, dog name, and dog category. On the other hand, the Labor Market dataset focuses on wage information for specific job roles, hourly wage rates, and gender-related statistics.\n",
    "\n",
    "By analyzing these datasets, we aim to explore the relationship between public sentiment towards dogs on Twitter and certain aspects of the labor market. Some research questions we would like to answer include:\n",
    "\n",
    "Is there a correlation between the ratings given to dogs on Twitter and the wage rates of specific job roles?\n",
    "Are there any gender-related patterns in the dog ratings and wage rates?\n",
    "To conduct this analysis, we will combine the two datasets based on common variables, such as occupation codes or other relevant identifiers, allowing us to examine the connection between dog ratings and labor market factors."
   ]
  },
  {
   "cell_type": "markdown",
   "id": "e607c097",
   "metadata": {},
   "source": [
    "## Data Gathering\n",
    "In the cell below, gather all three pieces of data for this project and load them in the notebook. Note: the methods required to gather each data are different."
   ]
  },
  {
   "cell_type": "markdown",
   "metadata": {},
   "source": [
    "## Dataset\n",
    "\n",
    "1). Dataset 1: Twitter Data\n",
    "\n",
    "Method: The Twitter data was gathered by directly downloading it in CSV format from the WeRateDogs Twitter archive.\n",
    "\n",
    "Dataset Significance: The variables in the dataset include tweet ID, timestamp, source, tweet text, expanded URLs, dog rating out of ten, dog name, and dog category. These variables provide essential information for analyzing and classifying the dog ratings on Twitter.\n",
    "\n",
    "\n",
    "2). Dataset 2: Labor Market Data\n",
    "\n",
    "Method: The Labor Market Data was gathered by accessing and downloading it from the Bureau of Labor Statistics website.\n",
    "\n",
    "Dataset Significance: The variables in the dataset include job title, wage rate, and gender. These variables provide valuable information for understanding the labor market and its potential relationship to dog ratings."
   ]
  },
  {
   "cell_type": "markdown",
   "metadata": {},
   "source": [
    "### 1. Directly download the WeRateDogs Twitter archive data (twitter_archive_enhanced.csv)"
   ]
  },
  {
   "cell_type": "code",
   "execution_count": 6,
   "id": "003e8f6d",
   "metadata": {},
   "outputs": [],
   "source": [
    "import pandas as pd\n",
    "import numpy as np\n"
   ]
  },
  {
   "cell_type": "code",
   "execution_count": 13,
   "metadata": {},
   "outputs": [
    {
     "name": "stdout",
     "output_type": "stream",
     "text": [
      "c:\\Users\\m30al\\AppData\\Local\\Temp\\507aa069-644f-4fc6-a594-150b046c5689_Data Wrangling and Analysis of Twitter Dog Ratings.zip.689\n"
     ]
    }
   ],
   "source": [
    "import os\n",
    "print(os.getcwd())\n"
   ]
  },
  {
   "cell_type": "code",
   "execution_count": 16,
   "id": "53aa6b3d",
   "metadata": {},
   "outputs": [
    {
     "data": {
      "text/html": [
       "<div>\n",
       "<style scoped>\n",
       "    .dataframe tbody tr th:only-of-type {\n",
       "        vertical-align: middle;\n",
       "    }\n",
       "\n",
       "    .dataframe tbody tr th {\n",
       "        vertical-align: top;\n",
       "    }\n",
       "\n",
       "    .dataframe thead th {\n",
       "        text-align: right;\n",
       "    }\n",
       "</style>\n",
       "<table border=\"1\" class=\"dataframe\">\n",
       "  <thead>\n",
       "    <tr style=\"text-align: right;\">\n",
       "      <th></th>\n",
       "      <th>Unnamed: 0</th>\n",
       "      <th>tweet_id</th>\n",
       "      <th>tweet_timestamp</th>\n",
       "      <th>source</th>\n",
       "      <th>tweet_text</th>\n",
       "      <th>expanded_urls</th>\n",
       "      <th>dog_rating_out_of_ten</th>\n",
       "      <th>dog_name</th>\n",
       "      <th>dog_category</th>\n",
       "    </tr>\n",
       "  </thead>\n",
       "  <tbody>\n",
       "    <tr>\n",
       "      <th>0</th>\n",
       "      <td>0</td>\n",
       "      <td>892420643555336193</td>\n",
       "      <td>2017-08-01 16:23:56 +0000</td>\n",
       "      <td>&lt;a href=\"http://twitter.com/download/iphone\" r...</td>\n",
       "      <td>This is Phineas. He's a mystical boy. Only eve...</td>\n",
       "      <td>https://twitter.com/dog_rates/status/892420643...</td>\n",
       "      <td>13.0</td>\n",
       "      <td>Phineas</td>\n",
       "      <td>NaN</td>\n",
       "    </tr>\n",
       "    <tr>\n",
       "      <th>1</th>\n",
       "      <td>1</td>\n",
       "      <td>892177421306343426</td>\n",
       "      <td>2017-08-01 00:17:27 +0000</td>\n",
       "      <td>&lt;a href=\"http://twitter.com/download/iphone\" r...</td>\n",
       "      <td>This is Tilly. She's just checking pup on you....</td>\n",
       "      <td>https://twitter.com/dog_rates/status/892177421...</td>\n",
       "      <td>13.0</td>\n",
       "      <td>Tilly</td>\n",
       "      <td>NaN</td>\n",
       "    </tr>\n",
       "    <tr>\n",
       "      <th>2</th>\n",
       "      <td>2</td>\n",
       "      <td>891815181378084864</td>\n",
       "      <td>2017-07-31 00:18:03 +0000</td>\n",
       "      <td>&lt;a href=\"http://twitter.com/download/iphone\" r...</td>\n",
       "      <td>This is Archie. He is a rare Norwegian Pouncin...</td>\n",
       "      <td>https://twitter.com/dog_rates/status/891815181...</td>\n",
       "      <td>12.0</td>\n",
       "      <td>Archie</td>\n",
       "      <td>NaN</td>\n",
       "    </tr>\n",
       "    <tr>\n",
       "      <th>3</th>\n",
       "      <td>3</td>\n",
       "      <td>891689557279858688</td>\n",
       "      <td>2017-07-30 15:58:51 +0000</td>\n",
       "      <td>&lt;a href=\"http://twitter.com/download/iphone\" r...</td>\n",
       "      <td>This is Darla. She commenced a snooze mid meal...</td>\n",
       "      <td>https://twitter.com/dog_rates/status/891689557...</td>\n",
       "      <td>13.0</td>\n",
       "      <td>Darla</td>\n",
       "      <td>NaN</td>\n",
       "    </tr>\n",
       "    <tr>\n",
       "      <th>4</th>\n",
       "      <td>4</td>\n",
       "      <td>891327558926688256</td>\n",
       "      <td>2017-07-29 16:00:24 +0000</td>\n",
       "      <td>&lt;a href=\"http://twitter.com/download/iphone\" r...</td>\n",
       "      <td>This is Franklin. He would like you to stop ca...</td>\n",
       "      <td>https://twitter.com/dog_rates/status/891327558...</td>\n",
       "      <td>12.0</td>\n",
       "      <td>Franklin</td>\n",
       "      <td>NaN</td>\n",
       "    </tr>\n",
       "  </tbody>\n",
       "</table>\n",
       "</div>"
      ],
      "text/plain": [
       "   Unnamed: 0            tweet_id            tweet_timestamp  \\\n",
       "0           0  892420643555336193  2017-08-01 16:23:56 +0000   \n",
       "1           1  892177421306343426  2017-08-01 00:17:27 +0000   \n",
       "2           2  891815181378084864  2017-07-31 00:18:03 +0000   \n",
       "3           3  891689557279858688  2017-07-30 15:58:51 +0000   \n",
       "4           4  891327558926688256  2017-07-29 16:00:24 +0000   \n",
       "\n",
       "                                              source  \\\n",
       "0  <a href=\"http://twitter.com/download/iphone\" r...   \n",
       "1  <a href=\"http://twitter.com/download/iphone\" r...   \n",
       "2  <a href=\"http://twitter.com/download/iphone\" r...   \n",
       "3  <a href=\"http://twitter.com/download/iphone\" r...   \n",
       "4  <a href=\"http://twitter.com/download/iphone\" r...   \n",
       "\n",
       "                                          tweet_text  \\\n",
       "0  This is Phineas. He's a mystical boy. Only eve...   \n",
       "1  This is Tilly. She's just checking pup on you....   \n",
       "2  This is Archie. He is a rare Norwegian Pouncin...   \n",
       "3  This is Darla. She commenced a snooze mid meal...   \n",
       "4  This is Franklin. He would like you to stop ca...   \n",
       "\n",
       "                                       expanded_urls  dog_rating_out_of_ten  \\\n",
       "0  https://twitter.com/dog_rates/status/892420643...                   13.0   \n",
       "1  https://twitter.com/dog_rates/status/892177421...                   13.0   \n",
       "2  https://twitter.com/dog_rates/status/891815181...                   12.0   \n",
       "3  https://twitter.com/dog_rates/status/891689557...                   13.0   \n",
       "4  https://twitter.com/dog_rates/status/891327558...                   12.0   \n",
       "\n",
       "   dog_name dog_category  \n",
       "0   Phineas          NaN  \n",
       "1     Tilly          NaN  \n",
       "2    Archie          NaN  \n",
       "3     Darla          NaN  \n",
       "4  Franklin          NaN  "
      ]
     },
     "execution_count": 16,
     "metadata": {},
     "output_type": "execute_result"
    }
   ],
   "source": [
    "df_archive = pd.read_csv(r'C:\\Users\\m30al\\Downloads\\twitter-archive-enhanced.csv.csv')\n",
    "df_archive.head()\n"
   ]
  },
  {
   "cell_type": "markdown",
   "id": "71872e28",
   "metadata": {},
   "source": [
    "### 2. Use the Requests library to download the tweet image prediction (image_predictions.tsv)"
   ]
  },
  {
   "cell_type": "code",
   "execution_count": 3,
   "id": "4f0e4573",
   "metadata": {},
   "outputs": [],
   "source": [
    "import requests"
   ]
  },
  {
   "cell_type": "code",
   "execution_count": 4,
   "id": "8bac1a14",
   "metadata": {},
   "outputs": [],
   "source": [
    "url = \"https://d17h27t6h515a5.cloudfront.net/topher/2017/August/599fd2ad_image-predictions/image-predictions.tsv\"\n",
    "r = requests.get(url, auth=('user', 'pass'))\n",
    "with open(\"image_predictions1.tsv\" , 'wb') as f:\n",
    "    f.write(r.content)"
   ]
  },
  {
   "cell_type": "code",
   "execution_count": 5,
   "id": "19a03cd2",
   "metadata": {},
   "outputs": [
    {
     "data": {
      "text/html": [
       "<div>\n",
       "<style scoped>\n",
       "    .dataframe tbody tr th:only-of-type {\n",
       "        vertical-align: middle;\n",
       "    }\n",
       "\n",
       "    .dataframe tbody tr th {\n",
       "        vertical-align: top;\n",
       "    }\n",
       "\n",
       "    .dataframe thead th {\n",
       "        text-align: right;\n",
       "    }\n",
       "</style>\n",
       "<table border=\"1\" class=\"dataframe\">\n",
       "  <thead>\n",
       "    <tr style=\"text-align: right;\">\n",
       "      <th></th>\n",
       "      <th>tweet_id</th>\n",
       "      <th>jpg_url</th>\n",
       "      <th>img_num</th>\n",
       "      <th>p1</th>\n",
       "      <th>p1_conf</th>\n",
       "      <th>p1_dog</th>\n",
       "      <th>p2</th>\n",
       "      <th>p2_conf</th>\n",
       "      <th>p2_dog</th>\n",
       "      <th>p3</th>\n",
       "      <th>p3_conf</th>\n",
       "      <th>p3_dog</th>\n",
       "    </tr>\n",
       "  </thead>\n",
       "  <tbody>\n",
       "    <tr>\n",
       "      <th>2070</th>\n",
       "      <td>891327558926688256</td>\n",
       "      <td>https://pbs.twimg.com/media/DF6hr6BUMAAzZgT.jpg</td>\n",
       "      <td>2</td>\n",
       "      <td>basset</td>\n",
       "      <td>0.555712</td>\n",
       "      <td>True</td>\n",
       "      <td>English_springer</td>\n",
       "      <td>0.225770</td>\n",
       "      <td>True</td>\n",
       "      <td>German_short-haired_pointer</td>\n",
       "      <td>0.175219</td>\n",
       "      <td>True</td>\n",
       "    </tr>\n",
       "    <tr>\n",
       "      <th>2071</th>\n",
       "      <td>891689557279858688</td>\n",
       "      <td>https://pbs.twimg.com/media/DF_q7IAWsAEuuN8.jpg</td>\n",
       "      <td>1</td>\n",
       "      <td>paper_towel</td>\n",
       "      <td>0.170278</td>\n",
       "      <td>False</td>\n",
       "      <td>Labrador_retriever</td>\n",
       "      <td>0.168086</td>\n",
       "      <td>True</td>\n",
       "      <td>spatula</td>\n",
       "      <td>0.040836</td>\n",
       "      <td>False</td>\n",
       "    </tr>\n",
       "    <tr>\n",
       "      <th>2072</th>\n",
       "      <td>891815181378084864</td>\n",
       "      <td>https://pbs.twimg.com/media/DGBdLU1WsAANxJ9.jpg</td>\n",
       "      <td>1</td>\n",
       "      <td>Chihuahua</td>\n",
       "      <td>0.716012</td>\n",
       "      <td>True</td>\n",
       "      <td>malamute</td>\n",
       "      <td>0.078253</td>\n",
       "      <td>True</td>\n",
       "      <td>kelpie</td>\n",
       "      <td>0.031379</td>\n",
       "      <td>True</td>\n",
       "    </tr>\n",
       "    <tr>\n",
       "      <th>2073</th>\n",
       "      <td>892177421306343426</td>\n",
       "      <td>https://pbs.twimg.com/media/DGGmoV4XsAAUL6n.jpg</td>\n",
       "      <td>1</td>\n",
       "      <td>Chihuahua</td>\n",
       "      <td>0.323581</td>\n",
       "      <td>True</td>\n",
       "      <td>Pekinese</td>\n",
       "      <td>0.090647</td>\n",
       "      <td>True</td>\n",
       "      <td>papillon</td>\n",
       "      <td>0.068957</td>\n",
       "      <td>True</td>\n",
       "    </tr>\n",
       "    <tr>\n",
       "      <th>2074</th>\n",
       "      <td>892420643555336193</td>\n",
       "      <td>https://pbs.twimg.com/media/DGKD1-bXoAAIAUK.jpg</td>\n",
       "      <td>1</td>\n",
       "      <td>orange</td>\n",
       "      <td>0.097049</td>\n",
       "      <td>False</td>\n",
       "      <td>bagel</td>\n",
       "      <td>0.085851</td>\n",
       "      <td>False</td>\n",
       "      <td>banana</td>\n",
       "      <td>0.076110</td>\n",
       "      <td>False</td>\n",
       "    </tr>\n",
       "  </tbody>\n",
       "</table>\n",
       "</div>"
      ],
      "text/plain": [
       "                tweet_id                                          jpg_url  \\\n",
       "2070  891327558926688256  https://pbs.twimg.com/media/DF6hr6BUMAAzZgT.jpg   \n",
       "2071  891689557279858688  https://pbs.twimg.com/media/DF_q7IAWsAEuuN8.jpg   \n",
       "2072  891815181378084864  https://pbs.twimg.com/media/DGBdLU1WsAANxJ9.jpg   \n",
       "2073  892177421306343426  https://pbs.twimg.com/media/DGGmoV4XsAAUL6n.jpg   \n",
       "2074  892420643555336193  https://pbs.twimg.com/media/DGKD1-bXoAAIAUK.jpg   \n",
       "\n",
       "      img_num           p1   p1_conf  p1_dog                  p2   p2_conf  \\\n",
       "2070        2       basset  0.555712    True    English_springer  0.225770   \n",
       "2071        1  paper_towel  0.170278   False  Labrador_retriever  0.168086   \n",
       "2072        1    Chihuahua  0.716012    True            malamute  0.078253   \n",
       "2073        1    Chihuahua  0.323581    True            Pekinese  0.090647   \n",
       "2074        1       orange  0.097049   False               bagel  0.085851   \n",
       "\n",
       "      p2_dog                           p3   p3_conf  p3_dog  \n",
       "2070    True  German_short-haired_pointer  0.175219    True  \n",
       "2071    True                      spatula  0.040836   False  \n",
       "2072    True                       kelpie  0.031379    True  \n",
       "2073    True                     papillon  0.068957    True  \n",
       "2074   False                       banana  0.076110   False  "
      ]
     },
     "execution_count": 5,
     "metadata": {},
     "output_type": "execute_result"
    }
   ],
   "source": [
    "df_images = pd.read_csv(\"image_predictions1.tsv\" , sep=\"\\t\")\n",
    "df_images.tail()"
   ]
  },
  {
   "cell_type": "markdown",
   "id": "a1a765e3",
   "metadata": {},
   "source": [
    "### 3. Use the Tweepy library to query additional data via the Twitter API (tweet_json.txt)"
   ]
  },
  {
   "cell_type": "code",
   "execution_count": 197,
   "id": "7d74b7d1",
   "metadata": {},
   "outputs": [],
   "source": [
    "# I was unable to register a developer account on Twitter because it demanded a phone number,\n",
    "# and my number was already associated with a previous account that I can't access.\n",
    "# Therfore i will access the data from the url that been given using the request libary\n",
    "\n",
    "url = \"https://video.udacity-data.com/topher/2018/November/5be5fb7d_tweet-json/tweet-json.txt\"\n",
    "r = requests.get(url)\n",
    "with open(\"tweet-json.txt\" , 'wb') as f:\n",
    "    f.write(r.content)\n",
    "# with open(\"tweet-json.txt\" , 'r') as read:\n",
    "#     tweet_json = read.readline()\n",
    "# tweet_json"
   ]
  },
  {
   "cell_type": "code",
   "execution_count": 7,
   "id": "d88f2735",
   "metadata": {},
   "outputs": [
    {
     "data": {
      "text/html": [
       "<div>\n",
       "<style scoped>\n",
       "    .dataframe tbody tr th:only-of-type {\n",
       "        vertical-align: middle;\n",
       "    }\n",
       "\n",
       "    .dataframe tbody tr th {\n",
       "        vertical-align: top;\n",
       "    }\n",
       "\n",
       "    .dataframe thead th {\n",
       "        text-align: right;\n",
       "    }\n",
       "</style>\n",
       "<table border=\"1\" class=\"dataframe\">\n",
       "  <thead>\n",
       "    <tr style=\"text-align: right;\">\n",
       "      <th></th>\n",
       "      <th>id</th>\n",
       "      <th>favorite_count</th>\n",
       "      <th>retweet_count</th>\n",
       "    </tr>\n",
       "  </thead>\n",
       "  <tbody>\n",
       "    <tr>\n",
       "      <th>0</th>\n",
       "      <td>892420643555336193</td>\n",
       "      <td>39467</td>\n",
       "      <td>8853</td>\n",
       "    </tr>\n",
       "    <tr>\n",
       "      <th>1</th>\n",
       "      <td>892177421306343426</td>\n",
       "      <td>33819</td>\n",
       "      <td>6514</td>\n",
       "    </tr>\n",
       "    <tr>\n",
       "      <th>2</th>\n",
       "      <td>891815181378084864</td>\n",
       "      <td>25461</td>\n",
       "      <td>4328</td>\n",
       "    </tr>\n",
       "    <tr>\n",
       "      <th>3</th>\n",
       "      <td>891689557279858688</td>\n",
       "      <td>42908</td>\n",
       "      <td>8964</td>\n",
       "    </tr>\n",
       "    <tr>\n",
       "      <th>4</th>\n",
       "      <td>891327558926688256</td>\n",
       "      <td>41048</td>\n",
       "      <td>9774</td>\n",
       "    </tr>\n",
       "  </tbody>\n",
       "</table>\n",
       "</div>"
      ],
      "text/plain": [
       "                   id  favorite_count  retweet_count\n",
       "0  892420643555336193           39467           8853\n",
       "1  892177421306343426           33819           6514\n",
       "2  891815181378084864           25461           4328\n",
       "3  891689557279858688           42908           8964\n",
       "4  891327558926688256           41048           9774"
      ]
     },
     "execution_count": 7,
     "metadata": {},
     "output_type": "execute_result"
    }
   ],
   "source": [
    "df_tweets = pd.read_json('tweet-json.txt',lines=True)\n",
    "df_tweets = df_tweets[['id', 'favorite_count', 'retweet_count']]\n",
    "df_tweets.head()"
   ]
  },
  {
   "cell_type": "markdown",
   "id": "3b6093b6",
   "metadata": {},
   "source": [
    "**Assessing Data Quality Issues:**\n",
    "\n",
    "1. Visual Assessment:\n",
    "   - Check for duplicate tweet IDs.\n",
    "   - Check for retweets and ensure you have only original tweets.\n",
    "   - Look for missing or incorrect dog names.\n",
    "   - Identify tweets without images.\n",
    "\n",
    "2. Programmatic Assessment:\n",
    "   - Analyze the data types of columns, ensuring they match the content (e.g., timestamp should be in datetime format).\n",
    "   - Examine rating numerators and denominators for unrealistic values.\n",
    "   - Check for missing ratings or ratings in decimal form.\n",
    "\n",
    "**Assessing Data Tidiness Issues:**\n",
    "\n",
    "1. Visual Assessment:\n",
    "   - Examine the `doggo`, `floofer`, `pupper`, and `puppo` columns to ensure they are correctly categorized.\n",
    "   - Identify tweets with more than one dog stage or no dog stage.\n",
    "\n",
    "2. Programmatic Assessment:\n",
    "   - Check if there are unnecessary or redundant columns.\n",
    "   - Examine the presence of duplicate columns after merging datasets.\n",
    "\n",
    "By using a combination of visual and programmatic assessments, you can identify and document quality and tidiness issues in your dataset effectively."
   ]
  },
  {
   "cell_type": "markdown",
   "id": "51d73b6a",
   "metadata": {},
   "source": [
    "### Twitter Archive data"
   ]
  },
  {
   "cell_type": "code",
   "execution_count": 178,
   "id": "da08263b",
   "metadata": {},
   "outputs": [
    {
     "data": {
      "text/html": [
       "<div>\n",
       "<style scoped>\n",
       "    .dataframe tbody tr th:only-of-type {\n",
       "        vertical-align: middle;\n",
       "    }\n",
       "\n",
       "    .dataframe tbody tr th {\n",
       "        vertical-align: top;\n",
       "    }\n",
       "\n",
       "    .dataframe thead th {\n",
       "        text-align: right;\n",
       "    }\n",
       "</style>\n",
       "<table border=\"1\" class=\"dataframe\">\n",
       "  <thead>\n",
       "    <tr style=\"text-align: right;\">\n",
       "      <th></th>\n",
       "      <th>Unnamed: 0</th>\n",
       "      <th>tweet_id</th>\n",
       "      <th>tweet_timestamp</th>\n",
       "      <th>source</th>\n",
       "      <th>tweet_text</th>\n",
       "      <th>expanded_urls</th>\n",
       "      <th>dog_rating_out_of_ten</th>\n",
       "      <th>dog_name</th>\n",
       "      <th>dog_category</th>\n",
       "    </tr>\n",
       "  </thead>\n",
       "  <tbody>\n",
       "    <tr>\n",
       "      <th>1279</th>\n",
       "      <td>1279</td>\n",
       "      <td>700890391244103680</td>\n",
       "      <td>2016-02-20 03:51:05 +0000</td>\n",
       "      <td>&lt;a href=\"http://twitter.com/download/iphone\" r...</td>\n",
       "      <td>This is Chet. He's dapper af. His owners want ...</td>\n",
       "      <td>https://twitter.com/dog_rates/status/700890391...</td>\n",
       "      <td>11.0</td>\n",
       "      <td>Chet</td>\n",
       "      <td>None</td>\n",
       "    </tr>\n",
       "    <tr>\n",
       "      <th>8</th>\n",
       "      <td>8</td>\n",
       "      <td>890609185150312448</td>\n",
       "      <td>2017-07-27 16:25:51 +0000</td>\n",
       "      <td>&lt;a href=\"http://twitter.com/download/iphone\" r...</td>\n",
       "      <td>This is Zoey. She doesn't want to be one of th...</td>\n",
       "      <td>https://twitter.com/dog_rates/status/890609185...</td>\n",
       "      <td>13.0</td>\n",
       "      <td>Zoey</td>\n",
       "      <td>None</td>\n",
       "    </tr>\n",
       "    <tr>\n",
       "      <th>1627</th>\n",
       "      <td>1627</td>\n",
       "      <td>674999807681908736</td>\n",
       "      <td>2015-12-10 17:11:09 +0000</td>\n",
       "      <td>&lt;a href=\"http://twitter.com/download/iphone\" r...</td>\n",
       "      <td>Ok last one of these. I may try to make some m...</td>\n",
       "      <td>https://twitter.com/dog_rates/status/674999807...</td>\n",
       "      <td>13.0</td>\n",
       "      <td>NaN</td>\n",
       "      <td>None</td>\n",
       "    </tr>\n",
       "    <tr>\n",
       "      <th>1328</th>\n",
       "      <td>1328</td>\n",
       "      <td>695816827381944320</td>\n",
       "      <td>2016-02-06 03:50:33 +0000</td>\n",
       "      <td>&lt;a href=\"http://twitter.com/download/iphone\" r...</td>\n",
       "      <td>Here's a dog enjoying a sunset. 11/10 would tr...</td>\n",
       "      <td>https://twitter.com/dog_rates/status/695816827...</td>\n",
       "      <td>11.0</td>\n",
       "      <td>NaN</td>\n",
       "      <td>None</td>\n",
       "    </tr>\n",
       "    <tr>\n",
       "      <th>682</th>\n",
       "      <td>682</td>\n",
       "      <td>786729988674449408</td>\n",
       "      <td>2016-10-14 00:47:00 +0000</td>\n",
       "      <td>&lt;a href=\"http://twitter.com/download/iphone\" r...</td>\n",
       "      <td>RT @dog_rates: This is Oakley. He has no idea ...</td>\n",
       "      <td>https://twitter.com/dog_rates/status/759447681...</td>\n",
       "      <td>11.0</td>\n",
       "      <td>Oakley</td>\n",
       "      <td>None</td>\n",
       "    </tr>\n",
       "    <tr>\n",
       "      <th>1484</th>\n",
       "      <td>1484</td>\n",
       "      <td>683098815881154561</td>\n",
       "      <td>2016-01-02 01:33:43 +0000</td>\n",
       "      <td>&lt;a href=\"http://twitter.com/download/iphone\" r...</td>\n",
       "      <td>aahhhhkslaldhwnxmzbbs 12/10 for being da smoos...</td>\n",
       "      <td>https://twitter.com/dog_rates/status/683098815...</td>\n",
       "      <td>12.0</td>\n",
       "      <td>NaN</td>\n",
       "      <td>None</td>\n",
       "    </tr>\n",
       "    <tr>\n",
       "      <th>271</th>\n",
       "      <td>271</td>\n",
       "      <td>840728873075638272</td>\n",
       "      <td>2017-03-12 00:59:17 +0000</td>\n",
       "      <td>&lt;a href=\"http://twitter.com/download/iphone\" r...</td>\n",
       "      <td>RT @dog_rates: This is Pipsy. He is a fluffbal...</td>\n",
       "      <td>https://twitter.com/dog_rates/status/667152164...</td>\n",
       "      <td>12.0</td>\n",
       "      <td>Pipsy</td>\n",
       "      <td>None</td>\n",
       "    </tr>\n",
       "    <tr>\n",
       "      <th>272</th>\n",
       "      <td>272</td>\n",
       "      <td>840698636975636481</td>\n",
       "      <td>2017-03-11 22:59:09 +0000</td>\n",
       "      <td>&lt;a href=\"http://twitter.com/download/iphone\" r...</td>\n",
       "      <td>@0_kelvin_0 &amp;gt;10/10 is reserved for puppos s...</td>\n",
       "      <td>NaN</td>\n",
       "      <td>10.0</td>\n",
       "      <td>NaN</td>\n",
       "      <td>None</td>\n",
       "    </tr>\n",
       "    <tr>\n",
       "      <th>424</th>\n",
       "      <td>424</td>\n",
       "      <td>821044531881721856</td>\n",
       "      <td>2017-01-16 17:20:45 +0000</td>\n",
       "      <td>&lt;a href=\"http://twitter.com/download/iphone\" r...</td>\n",
       "      <td>This is Flash. He went way too hard celebratin...</td>\n",
       "      <td>https://twitter.com/dog_rates/status/821044531...</td>\n",
       "      <td>12.0</td>\n",
       "      <td>Flash</td>\n",
       "      <td>None</td>\n",
       "    </tr>\n",
       "    <tr>\n",
       "      <th>251</th>\n",
       "      <td>251</td>\n",
       "      <td>844704788403113984</td>\n",
       "      <td>2017-03-23 00:18:10 +0000</td>\n",
       "      <td>&lt;a href=\"http://twitter.com/download/iphone\" r...</td>\n",
       "      <td>This is Luna. It's her first time outside and ...</td>\n",
       "      <td>https://twitter.com/dog_rates/status/844704788...</td>\n",
       "      <td>13.0</td>\n",
       "      <td>Luna</td>\n",
       "      <td>None</td>\n",
       "    </tr>\n",
       "  </tbody>\n",
       "</table>\n",
       "</div>"
      ],
      "text/plain": [
       "      Unnamed: 0            tweet_id            tweet_timestamp  \\\n",
       "1279        1279  700890391244103680  2016-02-20 03:51:05 +0000   \n",
       "8              8  890609185150312448  2017-07-27 16:25:51 +0000   \n",
       "1627        1627  674999807681908736  2015-12-10 17:11:09 +0000   \n",
       "1328        1328  695816827381944320  2016-02-06 03:50:33 +0000   \n",
       "682          682  786729988674449408  2016-10-14 00:47:00 +0000   \n",
       "1484        1484  683098815881154561  2016-01-02 01:33:43 +0000   \n",
       "271          271  840728873075638272  2017-03-12 00:59:17 +0000   \n",
       "272          272  840698636975636481  2017-03-11 22:59:09 +0000   \n",
       "424          424  821044531881721856  2017-01-16 17:20:45 +0000   \n",
       "251          251  844704788403113984  2017-03-23 00:18:10 +0000   \n",
       "\n",
       "                                                 source  \\\n",
       "1279  <a href=\"http://twitter.com/download/iphone\" r...   \n",
       "8     <a href=\"http://twitter.com/download/iphone\" r...   \n",
       "1627  <a href=\"http://twitter.com/download/iphone\" r...   \n",
       "1328  <a href=\"http://twitter.com/download/iphone\" r...   \n",
       "682   <a href=\"http://twitter.com/download/iphone\" r...   \n",
       "1484  <a href=\"http://twitter.com/download/iphone\" r...   \n",
       "271   <a href=\"http://twitter.com/download/iphone\" r...   \n",
       "272   <a href=\"http://twitter.com/download/iphone\" r...   \n",
       "424   <a href=\"http://twitter.com/download/iphone\" r...   \n",
       "251   <a href=\"http://twitter.com/download/iphone\" r...   \n",
       "\n",
       "                                             tweet_text  \\\n",
       "1279  This is Chet. He's dapper af. His owners want ...   \n",
       "8     This is Zoey. She doesn't want to be one of th...   \n",
       "1627  Ok last one of these. I may try to make some m...   \n",
       "1328  Here's a dog enjoying a sunset. 11/10 would tr...   \n",
       "682   RT @dog_rates: This is Oakley. He has no idea ...   \n",
       "1484  aahhhhkslaldhwnxmzbbs 12/10 for being da smoos...   \n",
       "271   RT @dog_rates: This is Pipsy. He is a fluffbal...   \n",
       "272   @0_kelvin_0 &gt;10/10 is reserved for puppos s...   \n",
       "424   This is Flash. He went way too hard celebratin...   \n",
       "251   This is Luna. It's her first time outside and ...   \n",
       "\n",
       "                                          expanded_urls  \\\n",
       "1279  https://twitter.com/dog_rates/status/700890391...   \n",
       "8     https://twitter.com/dog_rates/status/890609185...   \n",
       "1627  https://twitter.com/dog_rates/status/674999807...   \n",
       "1328  https://twitter.com/dog_rates/status/695816827...   \n",
       "682   https://twitter.com/dog_rates/status/759447681...   \n",
       "1484  https://twitter.com/dog_rates/status/683098815...   \n",
       "271   https://twitter.com/dog_rates/status/667152164...   \n",
       "272                                                 NaN   \n",
       "424   https://twitter.com/dog_rates/status/821044531...   \n",
       "251   https://twitter.com/dog_rates/status/844704788...   \n",
       "\n",
       "      dog_rating_out_of_ten dog_name dog_category  \n",
       "1279                   11.0     Chet         None  \n",
       "8                      13.0     Zoey         None  \n",
       "1627                   13.0      NaN         None  \n",
       "1328                   11.0      NaN         None  \n",
       "682                    11.0   Oakley         None  \n",
       "1484                   12.0      NaN         None  \n",
       "271                    12.0    Pipsy         None  \n",
       "272                    10.0      NaN         None  \n",
       "424                    12.0    Flash         None  \n",
       "251                    13.0     Luna         None  "
      ]
     },
     "execution_count": 178,
     "metadata": {},
     "output_type": "execute_result"
    }
   ],
   "source": [
    "df_archive.sample(10)"
   ]
  },
  {
   "cell_type": "markdown",
   "id": "2c73f28f",
   "metadata": {},
   "source": [
    "### many rows have no stage of the dog"
   ]
  },
  {
   "cell_type": "code",
   "execution_count": 9,
   "id": "84c1a10c",
   "metadata": {},
   "outputs": [
    {
     "data": {
      "text/html": [
       "<div>\n",
       "<style scoped>\n",
       "    .dataframe tbody tr th:only-of-type {\n",
       "        vertical-align: middle;\n",
       "    }\n",
       "\n",
       "    .dataframe tbody tr th {\n",
       "        vertical-align: top;\n",
       "    }\n",
       "\n",
       "    .dataframe thead th {\n",
       "        text-align: right;\n",
       "    }\n",
       "</style>\n",
       "<table border=\"1\" class=\"dataframe\">\n",
       "  <thead>\n",
       "    <tr style=\"text-align: right;\">\n",
       "      <th></th>\n",
       "      <th>Unnamed: 0</th>\n",
       "      <th>tweet_id</th>\n",
       "      <th>dog_rating_out_of_ten</th>\n",
       "    </tr>\n",
       "  </thead>\n",
       "  <tbody>\n",
       "    <tr>\n",
       "      <th>count</th>\n",
       "      <td>1899.000000</td>\n",
       "      <td>1.899000e+03</td>\n",
       "      <td>1899.000000</td>\n",
       "    </tr>\n",
       "    <tr>\n",
       "      <th>mean</th>\n",
       "      <td>949.000000</td>\n",
       "      <td>7.551383e+17</td>\n",
       "      <td>13.341906</td>\n",
       "    </tr>\n",
       "    <tr>\n",
       "      <th>std</th>\n",
       "      <td>548.338399</td>\n",
       "      <td>6.901044e+16</td>\n",
       "      <td>45.357220</td>\n",
       "    </tr>\n",
       "    <tr>\n",
       "      <th>min</th>\n",
       "      <td>0.000000</td>\n",
       "      <td>6.660508e+17</td>\n",
       "      <td>9.750000</td>\n",
       "    </tr>\n",
       "    <tr>\n",
       "      <th>25%</th>\n",
       "      <td>474.500000</td>\n",
       "      <td>6.874785e+17</td>\n",
       "      <td>11.000000</td>\n",
       "    </tr>\n",
       "    <tr>\n",
       "      <th>50%</th>\n",
       "      <td>949.000000</td>\n",
       "      <td>7.493958e+17</td>\n",
       "      <td>12.000000</td>\n",
       "    </tr>\n",
       "    <tr>\n",
       "      <th>75%</th>\n",
       "      <td>1423.500000</td>\n",
       "      <td>8.151885e+17</td>\n",
       "      <td>12.000000</td>\n",
       "    </tr>\n",
       "    <tr>\n",
       "      <th>max</th>\n",
       "      <td>1898.000000</td>\n",
       "      <td>8.924206e+17</td>\n",
       "      <td>1776.000000</td>\n",
       "    </tr>\n",
       "  </tbody>\n",
       "</table>\n",
       "</div>"
      ],
      "text/plain": [
       "        Unnamed: 0      tweet_id  dog_rating_out_of_ten\n",
       "count  1899.000000  1.899000e+03            1899.000000\n",
       "mean    949.000000  7.551383e+17              13.341906\n",
       "std     548.338399  6.901044e+16              45.357220\n",
       "min       0.000000  6.660508e+17               9.750000\n",
       "25%     474.500000  6.874785e+17              11.000000\n",
       "50%     949.000000  7.493958e+17              12.000000\n",
       "75%    1423.500000  8.151885e+17              12.000000\n",
       "max    1898.000000  8.924206e+17            1776.000000"
      ]
     },
     "execution_count": 9,
     "metadata": {},
     "output_type": "execute_result"
    }
   ],
   "source": [
    "df_archive.describe()"
   ]
  },
  {
   "cell_type": "code",
   "execution_count": 10,
   "id": "6982eec3",
   "metadata": {},
   "outputs": [
    {
     "name": "stdout",
     "output_type": "stream",
     "text": [
      "<class 'pandas.core.frame.DataFrame'>\n",
      "RangeIndex: 1899 entries, 0 to 1898\n",
      "Data columns (total 9 columns):\n",
      " #   Column                 Non-Null Count  Dtype  \n",
      "---  ------                 --------------  -----  \n",
      " 0   Unnamed: 0             1899 non-null   int64  \n",
      " 1   tweet_id               1899 non-null   int64  \n",
      " 2   tweet_timestamp        1899 non-null   object \n",
      " 3   source                 1899 non-null   object \n",
      " 4   tweet_text             1899 non-null   object \n",
      " 5   expanded_urls          1853 non-null   object \n",
      " 6   dog_rating_out_of_ten  1899 non-null   float64\n",
      " 7   dog_name               1311 non-null   object \n",
      " 8   dog_category           1899 non-null   object \n",
      "dtypes: float64(1), int64(2), object(6)\n",
      "memory usage: 133.6+ KB\n"
     ]
    }
   ],
   "source": [
    "df_archive.info()"
   ]
  },
  {
   "cell_type": "markdown",
   "id": "e03f9e5f",
   "metadata": {},
   "source": [
    "### There some wrong formats such as timestamp"
   ]
  },
  {
   "cell_type": "code",
   "execution_count": 23,
   "id": "6702f078",
   "metadata": {},
   "outputs": [
    {
     "data": {
      "text/plain": [
       "a          29\n",
       "Charlie    12\n",
       "Lucy       10\n",
       "Cooper     10\n",
       "Oliver     10\n",
       "           ..\n",
       "Angel       1\n",
       "Brat        1\n",
       "Tove        1\n",
       "my          1\n",
       "Lugan       1\n",
       "Name: dog_name, Length: 814, dtype: int64"
      ]
     },
     "execution_count": 23,
     "metadata": {},
     "output_type": "execute_result"
    }
   ],
   "source": [
    "df_archive.dog_name.value_counts()"
   ]
  },
  {
   "cell_type": "markdown",
   "id": "afd73e31",
   "metadata": {},
   "source": [
    "\n",
    "### There are some Wrong names such as 'a''the'\n"
   ]
  },
  {
   "cell_type": "code",
   "execution_count": 12,
   "id": "d3fa320f",
   "metadata": {},
   "outputs": [
    {
     "data": {
      "text/html": [
       "<div>\n",
       "<style scoped>\n",
       "    .dataframe tbody tr th:only-of-type {\n",
       "        vertical-align: middle;\n",
       "    }\n",
       "\n",
       "    .dataframe tbody tr th {\n",
       "        vertical-align: top;\n",
       "    }\n",
       "\n",
       "    .dataframe thead th {\n",
       "        text-align: right;\n",
       "    }\n",
       "</style>\n",
       "<table border=\"1\" class=\"dataframe\">\n",
       "  <thead>\n",
       "    <tr style=\"text-align: right;\">\n",
       "      <th></th>\n",
       "      <th>Unnamed: 0</th>\n",
       "      <th>tweet_id</th>\n",
       "      <th>tweet_timestamp</th>\n",
       "      <th>source</th>\n",
       "      <th>tweet_text</th>\n",
       "      <th>expanded_urls</th>\n",
       "      <th>dog_rating_out_of_ten</th>\n",
       "      <th>dog_name</th>\n",
       "      <th>dog_category</th>\n",
       "    </tr>\n",
       "  </thead>\n",
       "  <tbody>\n",
       "  </tbody>\n",
       "</table>\n",
       "</div>"
      ],
      "text/plain": [
       "Empty DataFrame\n",
       "Columns: [Unnamed: 0, tweet_id, tweet_timestamp, source, tweet_text, expanded_urls, dog_rating_out_of_ten, dog_name, dog_category]\n",
       "Index: []"
      ]
     },
     "execution_count": 12,
     "metadata": {},
     "output_type": "execute_result"
    }
   ],
   "source": [
    "df_archive[df_archive.tweet_id.duplicated()]"
   ]
  },
  {
   "cell_type": "code",
   "execution_count": 13,
   "id": "7c7e2401",
   "metadata": {},
   "outputs": [
    {
     "data": {
      "text/plain": [
       "'<a href=\"http://twitter.com/download/iphone\" rel=\"nofollow\">Twitter for iPhone</a>'"
      ]
     },
     "execution_count": 13,
     "metadata": {},
     "output_type": "execute_result"
    }
   ],
   "source": [
    "pd.options.display.max_colwidth = 50\n",
    "df_archive.source[0]"
   ]
  },
  {
   "cell_type": "code",
   "execution_count": 24,
   "id": "e0af4726",
   "metadata": {},
   "outputs": [
    {
     "data": {
      "text/plain": [
       "\"Here we have a majestic great white breaching off South Africa's coast. Absolutely h*ckin breathtaking. 13/10 (IG: tucker_marlo) #BarkWeek https://t.co/kQ04fDDRmh\""
      ]
     },
     "execution_count": 24,
     "metadata": {},
     "output_type": "execute_result"
    }
   ],
   "source": [
    "df_archive.tweet_text[5]"
   ]
  },
  {
   "cell_type": "code",
   "execution_count": 26,
   "id": "bf273560",
   "metadata": {},
   "outputs": [
    {
     "data": {
      "text/plain": [
       "12.00      558\n",
       "11.00      463\n",
       "10.00      461\n",
       "13.00      351\n",
       "14.00       54\n",
       "420.00       2\n",
       "15.00        2\n",
       "17.00        1\n",
       "666.00       1\n",
       "182.00       1\n",
       "9.75         1\n",
       "75.00        1\n",
       "11.27        1\n",
       "1776.00      1\n",
       "11.26        1\n",
       "Name: dog_rating_out_of_ten, dtype: int64"
      ]
     },
     "execution_count": 26,
     "metadata": {},
     "output_type": "execute_result"
    }
   ],
   "source": [
    "df_archive.dog_rating_out_of_ten.value_counts()"
   ]
  },
  {
   "cell_type": "markdown",
   "id": "027d4475",
   "metadata": {},
   "source": [
    "### Image Prediction data"
   ]
  },
  {
   "cell_type": "code",
   "execution_count": 27,
   "id": "572c652e",
   "metadata": {},
   "outputs": [
    {
     "data": {
      "text/html": [
       "<div>\n",
       "<style scoped>\n",
       "    .dataframe tbody tr th:only-of-type {\n",
       "        vertical-align: middle;\n",
       "    }\n",
       "\n",
       "    .dataframe tbody tr th {\n",
       "        vertical-align: top;\n",
       "    }\n",
       "\n",
       "    .dataframe thead th {\n",
       "        text-align: right;\n",
       "    }\n",
       "</style>\n",
       "<table border=\"1\" class=\"dataframe\">\n",
       "  <thead>\n",
       "    <tr style=\"text-align: right;\">\n",
       "      <th></th>\n",
       "      <th>tweet_id</th>\n",
       "      <th>img_num</th>\n",
       "      <th>p1_conf</th>\n",
       "      <th>p2_conf</th>\n",
       "      <th>p3_conf</th>\n",
       "    </tr>\n",
       "  </thead>\n",
       "  <tbody>\n",
       "    <tr>\n",
       "      <th>count</th>\n",
       "      <td>2.075000e+03</td>\n",
       "      <td>2075.000000</td>\n",
       "      <td>2075.000000</td>\n",
       "      <td>2.075000e+03</td>\n",
       "      <td>2.075000e+03</td>\n",
       "    </tr>\n",
       "    <tr>\n",
       "      <th>mean</th>\n",
       "      <td>7.384514e+17</td>\n",
       "      <td>1.203855</td>\n",
       "      <td>0.594548</td>\n",
       "      <td>1.345886e-01</td>\n",
       "      <td>6.032417e-02</td>\n",
       "    </tr>\n",
       "    <tr>\n",
       "      <th>std</th>\n",
       "      <td>6.785203e+16</td>\n",
       "      <td>0.561875</td>\n",
       "      <td>0.271174</td>\n",
       "      <td>1.006657e-01</td>\n",
       "      <td>5.090593e-02</td>\n",
       "    </tr>\n",
       "    <tr>\n",
       "      <th>min</th>\n",
       "      <td>6.660209e+17</td>\n",
       "      <td>1.000000</td>\n",
       "      <td>0.044333</td>\n",
       "      <td>1.011300e-08</td>\n",
       "      <td>1.740170e-10</td>\n",
       "    </tr>\n",
       "    <tr>\n",
       "      <th>25%</th>\n",
       "      <td>6.764835e+17</td>\n",
       "      <td>1.000000</td>\n",
       "      <td>0.364412</td>\n",
       "      <td>5.388625e-02</td>\n",
       "      <td>1.622240e-02</td>\n",
       "    </tr>\n",
       "    <tr>\n",
       "      <th>50%</th>\n",
       "      <td>7.119988e+17</td>\n",
       "      <td>1.000000</td>\n",
       "      <td>0.588230</td>\n",
       "      <td>1.181810e-01</td>\n",
       "      <td>4.944380e-02</td>\n",
       "    </tr>\n",
       "    <tr>\n",
       "      <th>75%</th>\n",
       "      <td>7.932034e+17</td>\n",
       "      <td>1.000000</td>\n",
       "      <td>0.843855</td>\n",
       "      <td>1.955655e-01</td>\n",
       "      <td>9.180755e-02</td>\n",
       "    </tr>\n",
       "    <tr>\n",
       "      <th>max</th>\n",
       "      <td>8.924206e+17</td>\n",
       "      <td>4.000000</td>\n",
       "      <td>1.000000</td>\n",
       "      <td>4.880140e-01</td>\n",
       "      <td>2.734190e-01</td>\n",
       "    </tr>\n",
       "  </tbody>\n",
       "</table>\n",
       "</div>"
      ],
      "text/plain": [
       "           tweet_id      img_num      p1_conf       p2_conf       p3_conf\n",
       "count  2.075000e+03  2075.000000  2075.000000  2.075000e+03  2.075000e+03\n",
       "mean   7.384514e+17     1.203855     0.594548  1.345886e-01  6.032417e-02\n",
       "std    6.785203e+16     0.561875     0.271174  1.006657e-01  5.090593e-02\n",
       "min    6.660209e+17     1.000000     0.044333  1.011300e-08  1.740170e-10\n",
       "25%    6.764835e+17     1.000000     0.364412  5.388625e-02  1.622240e-02\n",
       "50%    7.119988e+17     1.000000     0.588230  1.181810e-01  4.944380e-02\n",
       "75%    7.932034e+17     1.000000     0.843855  1.955655e-01  9.180755e-02\n",
       "max    8.924206e+17     4.000000     1.000000  4.880140e-01  2.734190e-01"
      ]
     },
     "execution_count": 27,
     "metadata": {},
     "output_type": "execute_result"
    }
   ],
   "source": [
    "df_images.describe()"
   ]
  },
  {
   "cell_type": "markdown",
   "id": "c1f1793e",
   "metadata": {},
   "source": [
    "### Around 60% confident on the first prediction, not bad"
   ]
  },
  {
   "cell_type": "code",
   "execution_count": 28,
   "id": "bc621c27",
   "metadata": {},
   "outputs": [
    {
     "name": "stdout",
     "output_type": "stream",
     "text": [
      "<class 'pandas.core.frame.DataFrame'>\n",
      "RangeIndex: 2075 entries, 0 to 2074\n",
      "Data columns (total 12 columns):\n",
      " #   Column    Non-Null Count  Dtype  \n",
      "---  ------    --------------  -----  \n",
      " 0   tweet_id  2075 non-null   int64  \n",
      " 1   jpg_url   2075 non-null   object \n",
      " 2   img_num   2075 non-null   int64  \n",
      " 3   p1        2075 non-null   object \n",
      " 4   p1_conf   2075 non-null   float64\n",
      " 5   p1_dog    2075 non-null   bool   \n",
      " 6   p2        2075 non-null   object \n",
      " 7   p2_conf   2075 non-null   float64\n",
      " 8   p2_dog    2075 non-null   bool   \n",
      " 9   p3        2075 non-null   object \n",
      " 10  p3_conf   2075 non-null   float64\n",
      " 11  p3_dog    2075 non-null   bool   \n",
      "dtypes: bool(3), float64(3), int64(2), object(4)\n",
      "memory usage: 152.1+ KB\n"
     ]
    }
   ],
   "source": [
    "df_images.info()"
   ]
  },
  {
   "cell_type": "code",
   "execution_count": 29,
   "id": "2a614ac9",
   "metadata": {},
   "outputs": [
    {
     "data": {
      "text/html": [
       "<div>\n",
       "<style scoped>\n",
       "    .dataframe tbody tr th:only-of-type {\n",
       "        vertical-align: middle;\n",
       "    }\n",
       "\n",
       "    .dataframe tbody tr th {\n",
       "        vertical-align: top;\n",
       "    }\n",
       "\n",
       "    .dataframe thead th {\n",
       "        text-align: right;\n",
       "    }\n",
       "</style>\n",
       "<table border=\"1\" class=\"dataframe\">\n",
       "  <thead>\n",
       "    <tr style=\"text-align: right;\">\n",
       "      <th></th>\n",
       "      <th>tweet_id</th>\n",
       "      <th>jpg_url</th>\n",
       "      <th>img_num</th>\n",
       "      <th>p1</th>\n",
       "      <th>p1_conf</th>\n",
       "      <th>p1_dog</th>\n",
       "      <th>p2</th>\n",
       "      <th>p2_conf</th>\n",
       "      <th>p2_dog</th>\n",
       "      <th>p3</th>\n",
       "      <th>p3_conf</th>\n",
       "      <th>p3_dog</th>\n",
       "    </tr>\n",
       "  </thead>\n",
       "  <tbody>\n",
       "  </tbody>\n",
       "</table>\n",
       "</div>"
      ],
      "text/plain": [
       "Empty DataFrame\n",
       "Columns: [tweet_id, jpg_url, img_num, p1, p1_conf, p1_dog, p2, p2_conf, p2_dog, p3, p3_conf, p3_dog]\n",
       "Index: []"
      ]
     },
     "execution_count": 29,
     "metadata": {},
     "output_type": "execute_result"
    }
   ],
   "source": [
    "df_images[df_images.tweet_id.duplicated()]"
   ]
  },
  {
   "cell_type": "code",
   "execution_count": 30,
   "id": "5270f552",
   "metadata": {},
   "outputs": [
    {
     "data": {
      "text/html": [
       "<div>\n",
       "<style scoped>\n",
       "    .dataframe tbody tr th:only-of-type {\n",
       "        vertical-align: middle;\n",
       "    }\n",
       "\n",
       "    .dataframe tbody tr th {\n",
       "        vertical-align: top;\n",
       "    }\n",
       "\n",
       "    .dataframe thead th {\n",
       "        text-align: right;\n",
       "    }\n",
       "</style>\n",
       "<table border=\"1\" class=\"dataframe\">\n",
       "  <thead>\n",
       "    <tr style=\"text-align: right;\">\n",
       "      <th></th>\n",
       "      <th>tweet_id</th>\n",
       "      <th>jpg_url</th>\n",
       "      <th>img_num</th>\n",
       "      <th>p1</th>\n",
       "      <th>p1_conf</th>\n",
       "      <th>p1_dog</th>\n",
       "      <th>p2</th>\n",
       "      <th>p2_conf</th>\n",
       "      <th>p2_dog</th>\n",
       "      <th>p3</th>\n",
       "      <th>p3_conf</th>\n",
       "      <th>p3_dog</th>\n",
       "    </tr>\n",
       "  </thead>\n",
       "  <tbody>\n",
       "    <tr>\n",
       "      <th>162</th>\n",
       "      <td>668955713004314625</td>\n",
       "      <td>https://pbs.twimg.com/media/CUibq3uVAAAup_O.jpg</td>\n",
       "      <td>1</td>\n",
       "      <td>cocker_spaniel</td>\n",
       "      <td>0.367492</td>\n",
       "      <td>True</td>\n",
       "      <td>Lakeland_terrier</td>\n",
       "      <td>0.272621</td>\n",
       "      <td>True</td>\n",
       "      <td>soft-coated_wheaten_terrier</td>\n",
       "      <td>0.067006</td>\n",
       "      <td>True</td>\n",
       "    </tr>\n",
       "    <tr>\n",
       "      <th>1111</th>\n",
       "      <td>724046343203856385</td>\n",
       "      <td>https://pbs.twimg.com/media/CgxUTS_XEAAC0pv.jpg</td>\n",
       "      <td>1</td>\n",
       "      <td>boxer</td>\n",
       "      <td>0.826272</td>\n",
       "      <td>True</td>\n",
       "      <td>bull_mastiff</td>\n",
       "      <td>0.158595</td>\n",
       "      <td>True</td>\n",
       "      <td>Great_Dane</td>\n",
       "      <td>0.011859</td>\n",
       "      <td>True</td>\n",
       "    </tr>\n",
       "  </tbody>\n",
       "</table>\n",
       "</div>"
      ],
      "text/plain": [
       "                tweet_id                                          jpg_url  \\\n",
       "162   668955713004314625  https://pbs.twimg.com/media/CUibq3uVAAAup_O.jpg   \n",
       "1111  724046343203856385  https://pbs.twimg.com/media/CgxUTS_XEAAC0pv.jpg   \n",
       "\n",
       "      img_num              p1   p1_conf  p1_dog                p2   p2_conf  \\\n",
       "162         1  cocker_spaniel  0.367492    True  Lakeland_terrier  0.272621   \n",
       "1111        1           boxer  0.826272    True      bull_mastiff  0.158595   \n",
       "\n",
       "      p2_dog                           p3   p3_conf  p3_dog  \n",
       "162     True  soft-coated_wheaten_terrier  0.067006    True  \n",
       "1111    True                   Great_Dane  0.011859    True  "
      ]
     },
     "execution_count": 30,
     "metadata": {},
     "output_type": "execute_result"
    }
   ],
   "source": [
    "df_images.sample(2)"
   ]
  },
  {
   "cell_type": "code",
   "execution_count": 31,
   "id": "8190ded2",
   "metadata": {},
   "outputs": [
    {
     "data": {
      "text/plain": [
       "golden_retriever      150\n",
       "Labrador_retriever    100\n",
       "Pembroke               89\n",
       "Chihuahua              83\n",
       "pug                    57\n",
       "Name: p1, dtype: int64"
      ]
     },
     "execution_count": 31,
     "metadata": {},
     "output_type": "execute_result"
    }
   ],
   "source": [
    "df_images['p1'].value_counts().nlargest(5)"
   ]
  },
  {
   "cell_type": "code",
   "execution_count": 32,
   "id": "3634d8ca",
   "metadata": {},
   "outputs": [
    {
     "data": {
      "text/plain": [
       "Labrador_retriever    104\n",
       "golden_retriever       92\n",
       "Cardigan               73\n",
       "Chihuahua              44\n",
       "Pomeranian             42\n",
       "Name: p2, dtype: int64"
      ]
     },
     "execution_count": 32,
     "metadata": {},
     "output_type": "execute_result"
    }
   ],
   "source": [
    "df_images['p2'].value_counts().nlargest(5)"
   ]
  },
  {
   "cell_type": "markdown",
   "id": "528500a9",
   "metadata": {},
   "source": [
    "### Twitter API data"
   ]
  },
  {
   "cell_type": "code",
   "execution_count": 33,
   "id": "d2a2096c",
   "metadata": {},
   "outputs": [
    {
     "name": "stdout",
     "output_type": "stream",
     "text": [
      "<class 'pandas.core.frame.DataFrame'>\n",
      "RangeIndex: 2354 entries, 0 to 2353\n",
      "Data columns (total 3 columns):\n",
      " #   Column          Non-Null Count  Dtype\n",
      "---  ------          --------------  -----\n",
      " 0   id              2354 non-null   int64\n",
      " 1   favorite_count  2354 non-null   int64\n",
      " 2   retweet_count   2354 non-null   int64\n",
      "dtypes: int64(3)\n",
      "memory usage: 55.3 KB\n"
     ]
    }
   ],
   "source": [
    "df_tweets.info()"
   ]
  },
  {
   "cell_type": "code",
   "execution_count": 34,
   "id": "038c5e0f",
   "metadata": {},
   "outputs": [
    {
     "data": {
      "text/html": [
       "<div>\n",
       "<style scoped>\n",
       "    .dataframe tbody tr th:only-of-type {\n",
       "        vertical-align: middle;\n",
       "    }\n",
       "\n",
       "    .dataframe tbody tr th {\n",
       "        vertical-align: top;\n",
       "    }\n",
       "\n",
       "    .dataframe thead th {\n",
       "        text-align: right;\n",
       "    }\n",
       "</style>\n",
       "<table border=\"1\" class=\"dataframe\">\n",
       "  <thead>\n",
       "    <tr style=\"text-align: right;\">\n",
       "      <th></th>\n",
       "      <th>id</th>\n",
       "      <th>favorite_count</th>\n",
       "      <th>retweet_count</th>\n",
       "    </tr>\n",
       "  </thead>\n",
       "  <tbody>\n",
       "  </tbody>\n",
       "</table>\n",
       "</div>"
      ],
      "text/plain": [
       "Empty DataFrame\n",
       "Columns: [id, favorite_count, retweet_count]\n",
       "Index: []"
      ]
     },
     "execution_count": 34,
     "metadata": {},
     "output_type": "execute_result"
    }
   ],
   "source": [
    "df_tweets[df_tweets.id.duplicated()]"
   ]
  },
  {
   "cell_type": "code",
   "execution_count": 35,
   "id": "93b04c56",
   "metadata": {},
   "outputs": [
    {
     "data": {
      "text/html": [
       "<div>\n",
       "<style scoped>\n",
       "    .dataframe tbody tr th:only-of-type {\n",
       "        vertical-align: middle;\n",
       "    }\n",
       "\n",
       "    .dataframe tbody tr th {\n",
       "        vertical-align: top;\n",
       "    }\n",
       "\n",
       "    .dataframe thead th {\n",
       "        text-align: right;\n",
       "    }\n",
       "</style>\n",
       "<table border=\"1\" class=\"dataframe\">\n",
       "  <thead>\n",
       "    <tr style=\"text-align: right;\">\n",
       "      <th></th>\n",
       "      <th>id</th>\n",
       "      <th>favorite_count</th>\n",
       "      <th>retweet_count</th>\n",
       "    </tr>\n",
       "  </thead>\n",
       "  <tbody>\n",
       "    <tr>\n",
       "      <th>count</th>\n",
       "      <td>2.354000e+03</td>\n",
       "      <td>2354.000000</td>\n",
       "      <td>2354.000000</td>\n",
       "    </tr>\n",
       "    <tr>\n",
       "      <th>mean</th>\n",
       "      <td>7.426978e+17</td>\n",
       "      <td>8080.968564</td>\n",
       "      <td>3164.797366</td>\n",
       "    </tr>\n",
       "    <tr>\n",
       "      <th>std</th>\n",
       "      <td>6.852812e+16</td>\n",
       "      <td>11814.771334</td>\n",
       "      <td>5284.770364</td>\n",
       "    </tr>\n",
       "    <tr>\n",
       "      <th>min</th>\n",
       "      <td>6.660209e+17</td>\n",
       "      <td>0.000000</td>\n",
       "      <td>0.000000</td>\n",
       "    </tr>\n",
       "    <tr>\n",
       "      <th>25%</th>\n",
       "      <td>6.783975e+17</td>\n",
       "      <td>1415.000000</td>\n",
       "      <td>624.500000</td>\n",
       "    </tr>\n",
       "    <tr>\n",
       "      <th>50%</th>\n",
       "      <td>7.194596e+17</td>\n",
       "      <td>3603.500000</td>\n",
       "      <td>1473.500000</td>\n",
       "    </tr>\n",
       "    <tr>\n",
       "      <th>75%</th>\n",
       "      <td>7.993058e+17</td>\n",
       "      <td>10122.250000</td>\n",
       "      <td>3652.000000</td>\n",
       "    </tr>\n",
       "    <tr>\n",
       "      <th>max</th>\n",
       "      <td>8.924206e+17</td>\n",
       "      <td>132810.000000</td>\n",
       "      <td>79515.000000</td>\n",
       "    </tr>\n",
       "  </tbody>\n",
       "</table>\n",
       "</div>"
      ],
      "text/plain": [
       "                 id  favorite_count  retweet_count\n",
       "count  2.354000e+03     2354.000000    2354.000000\n",
       "mean   7.426978e+17     8080.968564    3164.797366\n",
       "std    6.852812e+16    11814.771334    5284.770364\n",
       "min    6.660209e+17        0.000000       0.000000\n",
       "25%    6.783975e+17     1415.000000     624.500000\n",
       "50%    7.194596e+17     3603.500000    1473.500000\n",
       "75%    7.993058e+17    10122.250000    3652.000000\n",
       "max    8.924206e+17   132810.000000   79515.000000"
      ]
     },
     "execution_count": 35,
     "metadata": {},
     "output_type": "execute_result"
    }
   ],
   "source": [
    "df_tweets.describe()"
   ]
  },
  {
   "cell_type": "markdown",
   "id": "2e2117fa",
   "metadata": {},
   "source": [
    "\n",
    "\n",
    "**Twitter-archive Data Quality Issues:**\n",
    "\n",
    "1. **Missing expanded URLs:** Some entries lack image URLs in the 'expanded_urls' column, making it impossible to access the images.\n",
    "\n",
    "2. **Retweets:** The dataset contains retweets, which need to be removed to retain only original tweets.\n",
    "\n",
    "3. **Unwanted Columns:** Several columns, such as 'in_reply_to_status_id' and 'in_reply_to_user_id,' are irrelevant to the analysis and can be removed.\n",
    "\n",
    "4. **Invalid Dog Names:** The 'name' column has incorrect entries, including names like 'a' and 'None.'\n",
    "\n",
    "5. **Timestamp Data Type:** The 'timestamp' column is of object data type, and it should be converted to a datetime format.\n",
    "\n",
    "6. **Inconsistent Dog Ratings:** Some dog ratings have a higher denominator than the numerator, which may not be accurate.\n",
    "\n",
    "7. **Source Information:** The 'source' column contains non-essential information about the tweet's source.\n",
    "\n",
    "**Twitter-archive Tidiness Issues:**\n",
    "\n",
    "1. **Dog Stages:** The dog stages ('doggo,' 'floofer,' 'pupper,' and 'puppo') belong to a single variable and should be melted into one column.\n",
    "\n",
    "2. **Merge Data:** The Twitter-archive data is part of the same observational unit as the image predictions and tweet data. Merging these datasets would create a cleaner and more informative single table.\n",
    "\n",
    "**Image Prediction Data Quality Issues:**\n",
    "\n",
    "1. **Non-Dog Images:** Some entries in the image prediction data don't contain images of dogs and need to be removed.\n",
    "\n",
    "2. **Undefined Dog Breeds:** There are entries with dog breeds labeled as 'orange,' which are not defined breeds.\n",
    "\n",
    "**Image Prediction Data Tidiness Issue:**\n",
    "\n",
    "1. **Merge Data:** The image prediction data is part of the same observational unit as the Twitter-archive data. Merging these datasets would create a more comprehensive table for analysis.\n",
    "\n",
    "**Tweets Data Quality Issue:**\n",
    "\n",
    "1. **Rename Column:** The column 'id' should be renamed to 'tweet_id' for consistency and easier merging with other datasets.\n",
    "\n",
    "**Tweets Data Tidiness Issue:**\n",
    "\n",
    "1. **Merge Data:** The tweets data is part of the same observational unit as the Twitter-archive and image prediction data. Merging these datasets into one single table is recommended for a more complete analysis."
   ]
  },
  {
   "cell_type": "markdown",
   "id": "82116256",
   "metadata": {},
   "source": [
    "### Cleaning Data\n",
    "In this section, clean all of the issues you documented while assessing.\n",
    "\n",
    "Note: Make a copy of the original data before cleaning. Cleaning includes merging individual pieces of data according to the rules of https://cran.r-project.org/web/packages/tidyr/vignettes/tidy-data.html. The result should be a high-quality and tidy master pandas DataFrame (or DataFrames, if appropriate)."
   ]
  },
  {
   "cell_type": "code",
   "execution_count": 36,
   "id": "5f4f7c03",
   "metadata": {},
   "outputs": [],
   "source": [
    "df_archive_2 = df_archive.copy()\n",
    "df_images_2 = df_images.copy()\n",
    "df_tweets_2 = df_tweets.copy()"
   ]
  },
  {
   "cell_type": "markdown",
   "id": "c67c9abe",
   "metadata": {},
   "source": [
    "### 1. First - Twitter-archive data\n",
    "Remove the retweet tweets from twitter-archive data"
   ]
  },
  {
   "cell_type": "code",
   "execution_count": 42,
   "id": "135e5565",
   "metadata": {},
   "outputs": [],
   "source": [
    "df_archive_2 = df_archive_2[df_archive_2.tweet_text.isnull()]"
   ]
  },
  {
   "cell_type": "code",
   "execution_count": 43,
   "id": "c078918b",
   "metadata": {},
   "outputs": [
    {
     "name": "stdout",
     "output_type": "stream",
     "text": [
      "<class 'pandas.core.frame.DataFrame'>\n",
      "Int64Index: 0 entries\n",
      "Data columns (total 9 columns):\n",
      " #   Column                 Non-Null Count  Dtype  \n",
      "---  ------                 --------------  -----  \n",
      " 0   Unnamed: 0             0 non-null      int64  \n",
      " 1   tweet_id               0 non-null      int64  \n",
      " 2   tweet_timestamp        0 non-null      object \n",
      " 3   source                 0 non-null      object \n",
      " 4   tweet_text             0 non-null      object \n",
      " 5   expanded_urls          0 non-null      object \n",
      " 6   dog_rating_out_of_ten  0 non-null      float64\n",
      " 7   dog_name               0 non-null      object \n",
      " 8   dog_category           0 non-null      object \n",
      "dtypes: float64(1), int64(2), object(6)\n",
      "memory usage: 0.0+ bytes\n"
     ]
    }
   ],
   "source": [
    "# Test no retweeted tweets.\n",
    "df_archive_2.info()"
   ]
  },
  {
   "cell_type": "markdown",
   "id": "287841d4",
   "metadata": {},
   "source": [
    "### keep tweets which have their URLS"
   ]
  },
  {
   "cell_type": "code",
   "execution_count": 44,
   "id": "ea1ab818",
   "metadata": {},
   "outputs": [],
   "source": [
    "null_url = pd.notnull(df_archive_2[\"expanded_urls\"])\n",
    "df_archive_2 = df_archive_2[null_url]"
   ]
  },
  {
   "cell_type": "code",
   "execution_count": 45,
   "id": "a4cbca5e",
   "metadata": {},
   "outputs": [
    {
     "name": "stdout",
     "output_type": "stream",
     "text": [
      "<class 'pandas.core.frame.DataFrame'>\n",
      "Int64Index: 0 entries\n",
      "Data columns (total 9 columns):\n",
      " #   Column                 Non-Null Count  Dtype  \n",
      "---  ------                 --------------  -----  \n",
      " 0   Unnamed: 0             0 non-null      int64  \n",
      " 1   tweet_id               0 non-null      int64  \n",
      " 2   tweet_timestamp        0 non-null      object \n",
      " 3   source                 0 non-null      object \n",
      " 4   tweet_text             0 non-null      object \n",
      " 5   expanded_urls          0 non-null      object \n",
      " 6   dog_rating_out_of_ten  0 non-null      float64\n",
      " 7   dog_name               0 non-null      object \n",
      " 8   dog_category           0 non-null      object \n",
      "dtypes: float64(1), int64(2), object(6)\n",
      "memory usage: 0.0+ bytes\n"
     ]
    }
   ],
   "source": [
    "# Test All tweets have their URLS\n",
    "df_archive_2.info()"
   ]
  },
  {
   "cell_type": "markdown",
   "id": "9d0a9304",
   "metadata": {},
   "source": [
    "### Fix naming issues at (name) Column\n",
    "There some words that could be a name therefore will just change (a,an,the,none) to None"
   ]
  },
  {
   "cell_type": "code",
   "execution_count": 180,
   "id": "e9906683",
   "metadata": {},
   "outputs": [],
   "source": [
    "non_names = ['a' , \"an\",'the','none']\n",
    "df_archive_2[\"dog_name\"] = df_archive_2[\"dog_name\"].replace(non_names , \"None\")"
   ]
  },
  {
   "cell_type": "code",
   "execution_count": 181,
   "id": "7317dd18",
   "metadata": {},
   "outputs": [
    {
     "data": {
      "text/plain": [
       "Series([], Name: dog_name, dtype: int64)"
      ]
     },
     "execution_count": 181,
     "metadata": {},
     "output_type": "execute_result"
    }
   ],
   "source": [
    "# Test names are all valid\n",
    "df_archive_2.dog_name.value_counts()"
   ]
  },
  {
   "cell_type": "code",
   "execution_count": 20,
   "metadata": {},
   "outputs": [
    {
     "name": "stdout",
     "output_type": "stream",
     "text": [
      "dog_name\n",
      "a          29\n",
      "Charlie    12\n",
      "Lucy       10\n",
      "Cooper     10\n",
      "Oliver     10\n",
      "           ..\n",
      "Angel       1\n",
      "Brat        1\n",
      "Tove        1\n",
      "my          1\n",
      "Lugan       1\n",
      "Name: count, Length: 814, dtype: int64\n"
     ]
    }
   ],
   "source": [
    "import pandas as pd\n",
    "\n",
    "# Load the CSV file into a DataFrame\n",
    "df_archive = pd.read_csv(r'C:\\Users\\m30al\\Downloads\\twitter-archive-enhanced.csv.csv')\n",
    "\n",
    "column_name = 'dog_name'\n",
    "\n",
    "if column_name in df_archive.columns:\n",
    "    name_counts = df_archive[column_name].value_counts()\n",
    "    print(name_counts)\n",
    "else:\n",
    "    print(f\"The column '{column_name}' does not exist in the DataFrame.\")\n"
   ]
  },
  {
   "cell_type": "markdown",
   "id": "188b024a",
   "metadata": {},
   "source": [
    "### Change timestamp to datetime type"
   ]
  },
  {
   "cell_type": "code",
   "execution_count": 85,
   "id": "eaa35231",
   "metadata": {},
   "outputs": [],
   "source": [
    "df_archive_2['tweet_timestamp'] = pd.to_datetime(df_archive_2['tweet_timestamp'])"
   ]
  },
  {
   "cell_type": "code",
   "execution_count": 86,
   "id": "f8507cf1",
   "metadata": {},
   "outputs": [
    {
     "name": "stdout",
     "output_type": "stream",
     "text": [
      "<class 'pandas.core.frame.DataFrame'>\n",
      "Int64Index: 0 entries\n",
      "Data columns (total 9 columns):\n",
      " #   Column                 Non-Null Count  Dtype         \n",
      "---  ------                 --------------  -----         \n",
      " 0   Unnamed: 0             0 non-null      int64         \n",
      " 1   tweet_id               0 non-null      int64         \n",
      " 2   tweet_timestamp        0 non-null      datetime64[ns]\n",
      " 3   source                 0 non-null      object        \n",
      " 4   tweet_text             0 non-null      object        \n",
      " 5   expanded_urls          0 non-null      object        \n",
      " 6   dog_rating_out_of_ten  0 non-null      float64       \n",
      " 7   dog_name               0 non-null      object        \n",
      " 8   dog_category           0 non-null      object        \n",
      "dtypes: datetime64[ns](1), float64(1), int64(2), object(5)\n",
      "memory usage: 108.0+ bytes\n"
     ]
    }
   ],
   "source": [
    "# Test the type of timestamp column\n",
    "df_archive_2.info()"
   ]
  },
  {
   "cell_type": "markdown",
   "id": "c116d323",
   "metadata": {},
   "source": [
    "### Create a new column (rating) from dividing rating_numerator from rating_denominator and multiply by 10."
   ]
  },
  {
   "cell_type": "code",
   "execution_count": 90,
   "id": "c49572a5",
   "metadata": {},
   "outputs": [],
   "source": [
    "df_archive_2[\"expanded_urls\"] = (df_archive_2[\"dog_rating_out_of_ten\"] / df_archive_2[\"dog_rating_out_of_ten\"])*10\n",
    "df_archive_2[\"expanded_urls\"] = df_archive_2[\"expanded_urls\"].astype(int)"
   ]
  },
  {
   "cell_type": "code",
   "execution_count": 10,
   "metadata": {},
   "outputs": [],
   "source": [
    "import pandas as pd\n",
    "\n",
    "df_archive_2 = pd.read_csv(r'C:\\Users\\m30al\\Downloads\\twitter-archive-enhanced.csv.csv')\n",
    "\n",
    "rating_counts = df_archive_2['dog_rating_out_of_ten'].value_counts()\n"
   ]
  },
  {
   "cell_type": "code",
   "execution_count": 26,
   "metadata": {},
   "outputs": [
    {
     "name": "stdout",
     "output_type": "stream",
     "text": [
      "dog_rating_out_of_ten\n",
      "12.00      558\n",
      "11.00      463\n",
      "10.00      461\n",
      "13.00      351\n",
      "14.00       54\n",
      "420.00       2\n",
      "15.00        2\n",
      "17.00        1\n",
      "666.00       1\n",
      "182.00       1\n",
      "9.75         1\n",
      "75.00        1\n",
      "11.27        1\n",
      "1776.00      1\n",
      "11.26        1\n",
      "Name: count, dtype: int64\n"
     ]
    }
   ],
   "source": [
    "# Import the Pandas library\n",
    "import pandas as pd\n",
    "\n",
    "# Define the file path to your CSV file\n",
    "file_path = r'C:\\Users\\m30al\\Downloads\\twitter-archive-enhanced.csv.csv'\n",
    "\n",
    "# Load the CSV file into a DataFrame\n",
    "df_archive_2 = pd.read_csv(file_path)\n",
    "\n",
    "# Check if the 'dog_rating_out_of_ten' column exists in the DataFrame\n",
    "column_name = 'dog_rating_out_of_ten'\n",
    "\n",
    "if column_name in df_archive_2.columns:\n",
    "    # Get the value counts for the 'dog_rating_out_of_ten' column\n",
    "    rating_counts = df_archive_2[column_name].value_counts()\n",
    "    print(rating_counts)\n",
    "else:\n",
    "    print(f\"The column '{column_name}' does not exist in the DataFrame.\")\n"
   ]
  },
  {
   "cell_type": "markdown",
   "id": "35c3ba47",
   "metadata": {},
   "source": [
    "### Any dogs have ratings below 10 got fixed to 10 because dogs deserve."
   ]
  },
  {
   "cell_type": "code",
   "execution_count": 97,
   "id": "1eb49d61",
   "metadata": {},
   "outputs": [],
   "source": [
    "df_archive_2.loc[df_archive_2[\"rating\"] < 10, \"rating\"] = 10"
   ]
  },
  {
   "cell_type": "code",
   "execution_count": 101,
   "id": "3d549969",
   "metadata": {},
   "outputs": [
    {
     "name": "stdout",
     "output_type": "stream",
     "text": [
      "Step 1: Loaded data from 'twitter-archive-enhanced.csv'\n",
      "Step 2: Created the 'rating' column based on 'dog_rating_out_of_ten'\n",
      "Step 3: Displaying the value counts for the 'rating' column:\n",
      "12      558\n",
      "11      465\n",
      "10      461\n",
      "13      351\n",
      "14       54\n",
      "420       2\n",
      "15        2\n",
      "17        1\n",
      "666       1\n",
      "182       1\n",
      "9         1\n",
      "75        1\n",
      "1776      1\n",
      "Name: rating, dtype: int64\n"
     ]
    }
   ],
   "source": [
    "import pandas as pd\n",
    "df = pd.read_csv('twitter-archive-enhanced.csv')\n",
    "df['rating'] = (df['dog_rating_out_of_ten'] / 10) * 10\n",
    "df['rating'] = df['rating'].astype(int)\n",
    "rating_counts = df['rating'].value_counts()\n",
    "print(\"Step 1: Loaded data from 'twitter-archive-enhanced.csv'\")\n",
    "print(\"Step 2: Created the 'rating' column based on 'dog_rating_out_of_ten'\")\n",
    "print(\"Step 3: Displaying the value counts for the 'rating' column:\")\n",
    "print(rating_counts)"
   ]
  },
  {
   "cell_type": "markdown",
   "id": "fa4d121c",
   "metadata": {},
   "source": [
    "### Extract just the source from the texts without the tags (source) column"
   ]
  },
  {
   "cell_type": "code",
   "execution_count": 102,
   "id": "99db5ed3",
   "metadata": {},
   "outputs": [
    {
     "data": {
      "text/plain": [
       "269     <a href=\"http://twitter.com/download/iphone\" r...\n",
       "543     <a href=\"http://twitter.com/download/iphone\" r...\n",
       "937     <a href=\"http://twitter.com/download/iphone\" r...\n",
       "1046    <a href=\"http://twitter.com/download/iphone\" r...\n",
       "142     <a href=\"http://twitter.com/download/iphone\" r...\n",
       "Name: source, dtype: object"
      ]
     },
     "execution_count": 102,
     "metadata": {},
     "output_type": "execute_result"
    }
   ],
   "source": [
    "df_archive.source.sample(5)"
   ]
  },
  {
   "cell_type": "code",
   "execution_count": 103,
   "id": "72d1d6ed",
   "metadata": {},
   "outputs": [],
   "source": [
    "df_archive_2['source'] = df_archive_2['source'].str.extract(\n",
    "    '(Twitter for iPhone|Vine - Make a Scene|Twitter Web Client|TweetDeck)')"
   ]
  },
  {
   "cell_type": "code",
   "execution_count": 108,
   "id": "e8437709",
   "metadata": {},
   "outputs": [
    {
     "name": "stdout",
     "output_type": "stream",
     "text": [
      "Index(['Unnamed: 0', 'tweet_id', 'tweet_timestamp', 'source', 'tweet_text',\n",
      "       'expanded_urls', 'dog_rating_out_of_ten', 'dog_name', 'dog_category',\n",
      "       'rating'],\n",
      "      dtype='object')\n"
     ]
    }
   ],
   "source": [
    "# Display the columns of the DataFrame\n",
    "print(df_archive_2.columns)"
   ]
  },
  {
   "cell_type": "markdown",
   "id": "c8d774e0",
   "metadata": {},
   "source": [
    "### Second - Image Prediction data\n",
    "### Cleaning"
   ]
  },
  {
   "cell_type": "code",
   "execution_count": 119,
   "id": "02254ad6",
   "metadata": {},
   "outputs": [
    {
     "data": {
      "text/html": [
       "<div>\n",
       "<style scoped>\n",
       "    .dataframe tbody tr th:only-of-type {\n",
       "        vertical-align: middle;\n",
       "    }\n",
       "\n",
       "    .dataframe tbody tr th {\n",
       "        vertical-align: top;\n",
       "    }\n",
       "\n",
       "    .dataframe thead th {\n",
       "        text-align: right;\n",
       "    }\n",
       "</style>\n",
       "<table border=\"1\" class=\"dataframe\">\n",
       "  <thead>\n",
       "    <tr style=\"text-align: right;\">\n",
       "      <th></th>\n",
       "      <th>tweet_id</th>\n",
       "      <th>jpg_url</th>\n",
       "      <th>img_num</th>\n",
       "      <th>p1</th>\n",
       "      <th>p1_conf</th>\n",
       "      <th>p1_dog</th>\n",
       "      <th>p2</th>\n",
       "      <th>p2_conf</th>\n",
       "      <th>p2_dog</th>\n",
       "      <th>p3</th>\n",
       "      <th>p3_conf</th>\n",
       "      <th>p3_dog</th>\n",
       "    </tr>\n",
       "  </thead>\n",
       "  <tbody>\n",
       "    <tr>\n",
       "      <th>2070</th>\n",
       "      <td>891327558926688256</td>\n",
       "      <td>https://pbs.twimg.com/media/DF6hr6BUMAAzZgT.jpg</td>\n",
       "      <td>2</td>\n",
       "      <td>basset</td>\n",
       "      <td>0.555712</td>\n",
       "      <td>True</td>\n",
       "      <td>English_springer</td>\n",
       "      <td>0.225770</td>\n",
       "      <td>True</td>\n",
       "      <td>German_short-haired_pointer</td>\n",
       "      <td>0.175219</td>\n",
       "      <td>True</td>\n",
       "    </tr>\n",
       "    <tr>\n",
       "      <th>2071</th>\n",
       "      <td>891689557279858688</td>\n",
       "      <td>https://pbs.twimg.com/media/DF_q7IAWsAEuuN8.jpg</td>\n",
       "      <td>1</td>\n",
       "      <td>paper_towel</td>\n",
       "      <td>0.170278</td>\n",
       "      <td>False</td>\n",
       "      <td>Labrador_retriever</td>\n",
       "      <td>0.168086</td>\n",
       "      <td>True</td>\n",
       "      <td>spatula</td>\n",
       "      <td>0.040836</td>\n",
       "      <td>False</td>\n",
       "    </tr>\n",
       "    <tr>\n",
       "      <th>2072</th>\n",
       "      <td>891815181378084864</td>\n",
       "      <td>https://pbs.twimg.com/media/DGBdLU1WsAANxJ9.jpg</td>\n",
       "      <td>1</td>\n",
       "      <td>Chihuahua</td>\n",
       "      <td>0.716012</td>\n",
       "      <td>True</td>\n",
       "      <td>malamute</td>\n",
       "      <td>0.078253</td>\n",
       "      <td>True</td>\n",
       "      <td>kelpie</td>\n",
       "      <td>0.031379</td>\n",
       "      <td>True</td>\n",
       "    </tr>\n",
       "    <tr>\n",
       "      <th>2073</th>\n",
       "      <td>892177421306343426</td>\n",
       "      <td>https://pbs.twimg.com/media/DGGmoV4XsAAUL6n.jpg</td>\n",
       "      <td>1</td>\n",
       "      <td>Chihuahua</td>\n",
       "      <td>0.323581</td>\n",
       "      <td>True</td>\n",
       "      <td>Pekinese</td>\n",
       "      <td>0.090647</td>\n",
       "      <td>True</td>\n",
       "      <td>papillon</td>\n",
       "      <td>0.068957</td>\n",
       "      <td>True</td>\n",
       "    </tr>\n",
       "    <tr>\n",
       "      <th>2074</th>\n",
       "      <td>892420643555336193</td>\n",
       "      <td>https://pbs.twimg.com/media/DGKD1-bXoAAIAUK.jpg</td>\n",
       "      <td>1</td>\n",
       "      <td>orange</td>\n",
       "      <td>0.097049</td>\n",
       "      <td>False</td>\n",
       "      <td>bagel</td>\n",
       "      <td>0.085851</td>\n",
       "      <td>False</td>\n",
       "      <td>banana</td>\n",
       "      <td>0.076110</td>\n",
       "      <td>False</td>\n",
       "    </tr>\n",
       "  </tbody>\n",
       "</table>\n",
       "</div>"
      ],
      "text/plain": [
       "                tweet_id                                          jpg_url  \\\n",
       "2070  891327558926688256  https://pbs.twimg.com/media/DF6hr6BUMAAzZgT.jpg   \n",
       "2071  891689557279858688  https://pbs.twimg.com/media/DF_q7IAWsAEuuN8.jpg   \n",
       "2072  891815181378084864  https://pbs.twimg.com/media/DGBdLU1WsAANxJ9.jpg   \n",
       "2073  892177421306343426  https://pbs.twimg.com/media/DGGmoV4XsAAUL6n.jpg   \n",
       "2074  892420643555336193  https://pbs.twimg.com/media/DGKD1-bXoAAIAUK.jpg   \n",
       "\n",
       "      img_num           p1   p1_conf  p1_dog                  p2   p2_conf  \\\n",
       "2070        2       basset  0.555712    True    English_springer  0.225770   \n",
       "2071        1  paper_towel  0.170278   False  Labrador_retriever  0.168086   \n",
       "2072        1    Chihuahua  0.716012    True            malamute  0.078253   \n",
       "2073        1    Chihuahua  0.323581    True            Pekinese  0.090647   \n",
       "2074        1       orange  0.097049   False               bagel  0.085851   \n",
       "\n",
       "      p2_dog                           p3   p3_conf  p3_dog  \n",
       "2070    True  German_short-haired_pointer  0.175219    True  \n",
       "2071    True                      spatula  0.040836   False  \n",
       "2072    True                       kelpie  0.031379    True  \n",
       "2073    True                     papillon  0.068957    True  \n",
       "2074   False                       banana  0.076110   False  "
      ]
     },
     "execution_count": 119,
     "metadata": {},
     "output_type": "execute_result"
    }
   ],
   "source": [
    "df_images_2.tail()"
   ]
  },
  {
   "cell_type": "code",
   "execution_count": 120,
   "id": "230a6044",
   "metadata": {},
   "outputs": [
    {
     "data": {
      "text/html": [
       "<img src=\"https://pbs.twimg.com/media/DGKD1-bXoAAIAUK.jpg\"/>"
      ],
      "text/plain": [
       "<IPython.core.display.Image object>"
      ]
     },
     "execution_count": 120,
     "metadata": {},
     "output_type": "execute_result"
    }
   ],
   "source": [
    "from IPython.display import Image \n",
    "Image(url='https://pbs.twimg.com/media/DGKD1-bXoAAIAUK.jpg')"
   ]
  },
  {
   "cell_type": "markdown",
   "id": "e28cd2f1",
   "metadata": {},
   "source": [
    "###### Turn that some of the images where classified wrong by the model as shown above. The image is from tweet_id: 892420643555336193"
   ]
  },
  {
   "cell_type": "markdown",
   "id": "cf9e0f80",
   "metadata": {},
   "source": [
    "### Remove all rows which wasnt classifed as a dog by the model from all three prediction."
   ]
  },
  {
   "cell_type": "code",
   "execution_count": 122,
   "id": "88af8a2a",
   "metadata": {},
   "outputs": [],
   "source": [
    "df_images_2 = df_images_2.query('p1_dog == True or p2_dog == True or p3_dog == True')"
   ]
  },
  {
   "cell_type": "code",
   "execution_count": 123,
   "id": "1f286165",
   "metadata": {},
   "outputs": [
    {
     "data": {
      "text/html": [
       "<div>\n",
       "<style scoped>\n",
       "    .dataframe tbody tr th:only-of-type {\n",
       "        vertical-align: middle;\n",
       "    }\n",
       "\n",
       "    .dataframe tbody tr th {\n",
       "        vertical-align: top;\n",
       "    }\n",
       "\n",
       "    .dataframe thead th {\n",
       "        text-align: right;\n",
       "    }\n",
       "</style>\n",
       "<table border=\"1\" class=\"dataframe\">\n",
       "  <thead>\n",
       "    <tr style=\"text-align: right;\">\n",
       "      <th></th>\n",
       "      <th>tweet_id</th>\n",
       "      <th>jpg_url</th>\n",
       "      <th>img_num</th>\n",
       "      <th>p1</th>\n",
       "      <th>p1_conf</th>\n",
       "      <th>p1_dog</th>\n",
       "      <th>p2</th>\n",
       "      <th>p2_conf</th>\n",
       "      <th>p2_dog</th>\n",
       "      <th>p3</th>\n",
       "      <th>p3_conf</th>\n",
       "      <th>p3_dog</th>\n",
       "    </tr>\n",
       "  </thead>\n",
       "  <tbody>\n",
       "    <tr>\n",
       "      <th>1380</th>\n",
       "      <td>765222098633691136</td>\n",
       "      <td>https://pbs.twimg.com/media/Cp6db4-XYAAMmqL.jpg</td>\n",
       "      <td>1</td>\n",
       "      <td>dalmatian</td>\n",
       "      <td>0.556595</td>\n",
       "      <td>True</td>\n",
       "      <td>whippet</td>\n",
       "      <td>0.151047</td>\n",
       "      <td>True</td>\n",
       "      <td>American_Staffordshire_terrier</td>\n",
       "      <td>0.096435</td>\n",
       "      <td>True</td>\n",
       "    </tr>\n",
       "    <tr>\n",
       "      <th>1575</th>\n",
       "      <td>796031486298386433</td>\n",
       "      <td>https://pbs.twimg.com/media/CwwSaWJWIAASuoY.jpg</td>\n",
       "      <td>1</td>\n",
       "      <td>golden_retriever</td>\n",
       "      <td>0.893775</td>\n",
       "      <td>True</td>\n",
       "      <td>Labrador_retriever</td>\n",
       "      <td>0.070140</td>\n",
       "      <td>True</td>\n",
       "      <td>doormat</td>\n",
       "      <td>0.008419</td>\n",
       "      <td>False</td>\n",
       "    </tr>\n",
       "    <tr>\n",
       "      <th>2060</th>\n",
       "      <td>889531135344209921</td>\n",
       "      <td>https://pbs.twimg.com/media/DFg_2PVW0AEHN3p.jpg</td>\n",
       "      <td>1</td>\n",
       "      <td>golden_retriever</td>\n",
       "      <td>0.953442</td>\n",
       "      <td>True</td>\n",
       "      <td>Labrador_retriever</td>\n",
       "      <td>0.013834</td>\n",
       "      <td>True</td>\n",
       "      <td>redbone</td>\n",
       "      <td>0.007958</td>\n",
       "      <td>True</td>\n",
       "    </tr>\n",
       "    <tr>\n",
       "      <th>354</th>\n",
       "      <td>672591762242805761</td>\n",
       "      <td>https://pbs.twimg.com/media/CVWGotpXAAMRfGq.jpg</td>\n",
       "      <td>1</td>\n",
       "      <td>kuvasz</td>\n",
       "      <td>0.777659</td>\n",
       "      <td>True</td>\n",
       "      <td>Great_Pyrenees</td>\n",
       "      <td>0.112517</td>\n",
       "      <td>True</td>\n",
       "      <td>golden_retriever</td>\n",
       "      <td>0.038351</td>\n",
       "      <td>True</td>\n",
       "    </tr>\n",
       "    <tr>\n",
       "      <th>1437</th>\n",
       "      <td>773985732834758656</td>\n",
       "      <td>https://pbs.twimg.com/media/Cr2_6R8WAAAUMtc.jpg</td>\n",
       "      <td>4</td>\n",
       "      <td>giant_panda</td>\n",
       "      <td>0.451149</td>\n",
       "      <td>False</td>\n",
       "      <td>fur_coat</td>\n",
       "      <td>0.148001</td>\n",
       "      <td>False</td>\n",
       "      <td>pug</td>\n",
       "      <td>0.109570</td>\n",
       "      <td>True</td>\n",
       "    </tr>\n",
       "  </tbody>\n",
       "</table>\n",
       "</div>"
      ],
      "text/plain": [
       "                tweet_id                                          jpg_url  \\\n",
       "1380  765222098633691136  https://pbs.twimg.com/media/Cp6db4-XYAAMmqL.jpg   \n",
       "1575  796031486298386433  https://pbs.twimg.com/media/CwwSaWJWIAASuoY.jpg   \n",
       "2060  889531135344209921  https://pbs.twimg.com/media/DFg_2PVW0AEHN3p.jpg   \n",
       "354   672591762242805761  https://pbs.twimg.com/media/CVWGotpXAAMRfGq.jpg   \n",
       "1437  773985732834758656  https://pbs.twimg.com/media/Cr2_6R8WAAAUMtc.jpg   \n",
       "\n",
       "      img_num                p1   p1_conf  p1_dog                  p2  \\\n",
       "1380        1         dalmatian  0.556595    True             whippet   \n",
       "1575        1  golden_retriever  0.893775    True  Labrador_retriever   \n",
       "2060        1  golden_retriever  0.953442    True  Labrador_retriever   \n",
       "354         1            kuvasz  0.777659    True      Great_Pyrenees   \n",
       "1437        4       giant_panda  0.451149   False            fur_coat   \n",
       "\n",
       "       p2_conf  p2_dog                              p3   p3_conf  p3_dog  \n",
       "1380  0.151047    True  American_Staffordshire_terrier  0.096435    True  \n",
       "1575  0.070140    True                         doormat  0.008419   False  \n",
       "2060  0.013834    True                         redbone  0.007958    True  \n",
       "354   0.112517    True                golden_retriever  0.038351    True  \n",
       "1437  0.148001   False                             pug  0.109570    True  "
      ]
     },
     "execution_count": 123,
     "metadata": {},
     "output_type": "execute_result"
    }
   ],
   "source": [
    "df_images_2.sample(5)"
   ]
  },
  {
   "cell_type": "code",
   "execution_count": 124,
   "id": "f129cc0e",
   "metadata": {},
   "outputs": [
    {
     "data": {
      "text/plain": [
       "(0, 12)"
      ]
     },
     "execution_count": 124,
     "metadata": {},
     "output_type": "execute_result"
    }
   ],
   "source": [
    "# Test if all nor dog images been dropped\n",
    "df_images_2.query('p1_dog == False and p2_dog == False and p3_dog == False').shape"
   ]
  },
  {
   "cell_type": "markdown",
   "id": "63d8a82d",
   "metadata": {},
   "source": [
    "### Merging the archive dataset and image dataset"
   ]
  },
  {
   "cell_type": "code",
   "execution_count": 129,
   "id": "fa97fab6",
   "metadata": {},
   "outputs": [
    {
     "name": "stdout",
     "output_type": "stream",
     "text": [
      "<class 'pandas.core.frame.DataFrame'>\n",
      "Index: 0 entries\n",
      "Data columns (total 21 columns):\n",
      " #   Column                 Non-Null Count  Dtype         \n",
      "---  ------                 --------------  -----         \n",
      " 0   tweet_id               0 non-null      int64         \n",
      " 1   jpg_url                0 non-null      object        \n",
      " 2   img_num                0 non-null      int64         \n",
      " 3   p1                     0 non-null      object        \n",
      " 4   p1_conf                0 non-null      float64       \n",
      " 5   p1_dog                 0 non-null      bool          \n",
      " 6   p2                     0 non-null      object        \n",
      " 7   p2_conf                0 non-null      float64       \n",
      " 8   p2_dog                 0 non-null      bool          \n",
      " 9   p3                     0 non-null      object        \n",
      " 10  p3_conf                0 non-null      float64       \n",
      " 11  p3_dog                 0 non-null      bool          \n",
      " 12  Unnamed: 0             0 non-null      int64         \n",
      " 13  tweet_timestamp        0 non-null      datetime64[ns]\n",
      " 14  source                 0 non-null      object        \n",
      " 15  tweet_text             0 non-null      object        \n",
      " 16  expanded_urls          0 non-null      int64         \n",
      " 17  dog_rating_out_of_ten  0 non-null      float64       \n",
      " 18  dog_name               0 non-null      object        \n",
      " 19  dog_category           0 non-null      object        \n",
      " 20  rating                 0 non-null      int64         \n",
      "dtypes: bool(3), datetime64[ns](1), float64(4), int64(5), object(8)\n",
      "memory usage: 0.0+ bytes\n"
     ]
    }
   ],
   "source": [
    "merged_df.info()"
   ]
  },
  {
   "cell_type": "markdown",
   "id": "c0fbbbee",
   "metadata": {},
   "source": [
    "### Image Prediction data completed\n",
    "### Third - Tweet data\n",
    "### Cleaning\n",
    "### Rename column (id) to (tweet_id)"
   ]
  },
  {
   "cell_type": "code",
   "execution_count": 130,
   "id": "940eb83e",
   "metadata": {},
   "outputs": [
    {
     "data": {
      "text/html": [
       "<div>\n",
       "<style scoped>\n",
       "    .dataframe tbody tr th:only-of-type {\n",
       "        vertical-align: middle;\n",
       "    }\n",
       "\n",
       "    .dataframe tbody tr th {\n",
       "        vertical-align: top;\n",
       "    }\n",
       "\n",
       "    .dataframe thead th {\n",
       "        text-align: right;\n",
       "    }\n",
       "</style>\n",
       "<table border=\"1\" class=\"dataframe\">\n",
       "  <thead>\n",
       "    <tr style=\"text-align: right;\">\n",
       "      <th></th>\n",
       "      <th>tweet_id</th>\n",
       "      <th>favorite_count</th>\n",
       "      <th>retweet_count</th>\n",
       "    </tr>\n",
       "  </thead>\n",
       "  <tbody>\n",
       "    <tr>\n",
       "      <th>0</th>\n",
       "      <td>892420643555336193</td>\n",
       "      <td>39467</td>\n",
       "      <td>8853</td>\n",
       "    </tr>\n",
       "    <tr>\n",
       "      <th>1</th>\n",
       "      <td>892177421306343426</td>\n",
       "      <td>33819</td>\n",
       "      <td>6514</td>\n",
       "    </tr>\n",
       "    <tr>\n",
       "      <th>2</th>\n",
       "      <td>891815181378084864</td>\n",
       "      <td>25461</td>\n",
       "      <td>4328</td>\n",
       "    </tr>\n",
       "    <tr>\n",
       "      <th>3</th>\n",
       "      <td>891689557279858688</td>\n",
       "      <td>42908</td>\n",
       "      <td>8964</td>\n",
       "    </tr>\n",
       "    <tr>\n",
       "      <th>4</th>\n",
       "      <td>891327558926688256</td>\n",
       "      <td>41048</td>\n",
       "      <td>9774</td>\n",
       "    </tr>\n",
       "  </tbody>\n",
       "</table>\n",
       "</div>"
      ],
      "text/plain": [
       "             tweet_id  favorite_count  retweet_count\n",
       "0  892420643555336193           39467           8853\n",
       "1  892177421306343426           33819           6514\n",
       "2  891815181378084864           25461           4328\n",
       "3  891689557279858688           42908           8964\n",
       "4  891327558926688256           41048           9774"
      ]
     },
     "execution_count": 130,
     "metadata": {},
     "output_type": "execute_result"
    }
   ],
   "source": [
    "df_tweets_2 = df_tweets_2.rename(columns={\"id\":\"tweet_id\"})\n",
    "df_tweets_2.head()"
   ]
  },
  {
   "cell_type": "code",
   "execution_count": 131,
   "id": "c6c9a101",
   "metadata": {},
   "outputs": [
    {
     "name": "stdout",
     "output_type": "stream",
     "text": [
      "<class 'pandas.core.frame.DataFrame'>\n",
      "RangeIndex: 2354 entries, 0 to 2353\n",
      "Data columns (total 3 columns):\n",
      " #   Column          Non-Null Count  Dtype\n",
      "---  ------          --------------  -----\n",
      " 0   tweet_id        2354 non-null   int64\n",
      " 1   favorite_count  2354 non-null   int64\n",
      " 2   retweet_count   2354 non-null   int64\n",
      "dtypes: int64(3)\n",
      "memory usage: 55.3 KB\n"
     ]
    }
   ],
   "source": [
    "df_tweets_2.info()"
   ]
  },
  {
   "cell_type": "code",
   "execution_count": 135,
   "id": "81e0c9ce",
   "metadata": {},
   "outputs": [
    {
     "data": {
      "text/html": [
       "<div>\n",
       "<style scoped>\n",
       "    .dataframe tbody tr th:only-of-type {\n",
       "        vertical-align: middle;\n",
       "    }\n",
       "\n",
       "    .dataframe tbody tr th {\n",
       "        vertical-align: top;\n",
       "    }\n",
       "\n",
       "    .dataframe thead th {\n",
       "        text-align: right;\n",
       "    }\n",
       "</style>\n",
       "<table border=\"1\" class=\"dataframe\">\n",
       "  <thead>\n",
       "    <tr style=\"text-align: right;\">\n",
       "      <th></th>\n",
       "      <th>tweet_id</th>\n",
       "      <th>favorite_count</th>\n",
       "      <th>retweet_count</th>\n",
       "      <th>jpg_url</th>\n",
       "      <th>img_num</th>\n",
       "      <th>p1</th>\n",
       "      <th>p1_conf</th>\n",
       "      <th>p1_dog</th>\n",
       "      <th>p2</th>\n",
       "      <th>p2_conf</th>\n",
       "      <th>...</th>\n",
       "      <th>p3_dog</th>\n",
       "      <th>Unnamed: 0</th>\n",
       "      <th>tweet_timestamp</th>\n",
       "      <th>source</th>\n",
       "      <th>tweet_text</th>\n",
       "      <th>expanded_urls</th>\n",
       "      <th>dog_rating_out_of_ten</th>\n",
       "      <th>dog_name</th>\n",
       "      <th>dog_category</th>\n",
       "      <th>rating</th>\n",
       "    </tr>\n",
       "  </thead>\n",
       "  <tbody>\n",
       "  </tbody>\n",
       "</table>\n",
       "<p>0 rows × 23 columns</p>\n",
       "</div>"
      ],
      "text/plain": [
       "Empty DataFrame\n",
       "Columns: [tweet_id, favorite_count, retweet_count, jpg_url, img_num, p1, p1_conf, p1_dog, p2, p2_conf, p2_dog, p3, p3_conf, p3_dog, Unnamed: 0, tweet_timestamp, source, tweet_text, expanded_urls, dog_rating_out_of_ten, dog_name, dog_category, rating]\n",
       "Index: []\n",
       "\n",
       "[0 rows x 23 columns]"
      ]
     },
     "execution_count": 135,
     "metadata": {},
     "output_type": "execute_result"
    }
   ],
   "source": [
    "data = df_tweets_2.merge(merged_df, on='tweet_id' , how=\"inner\")\n",
    "#Test the Master data √\n",
    "data.sample(0)"
   ]
  },
  {
   "cell_type": "code",
   "execution_count": 136,
   "id": "a10c3777",
   "metadata": {},
   "outputs": [
    {
     "name": "stdout",
     "output_type": "stream",
     "text": [
      "<class 'pandas.core.frame.DataFrame'>\n",
      "Index: 0 entries\n",
      "Data columns (total 23 columns):\n",
      " #   Column                 Non-Null Count  Dtype         \n",
      "---  ------                 --------------  -----         \n",
      " 0   tweet_id               0 non-null      int64         \n",
      " 1   favorite_count         0 non-null      int64         \n",
      " 2   retweet_count          0 non-null      int64         \n",
      " 3   jpg_url                0 non-null      object        \n",
      " 4   img_num                0 non-null      int64         \n",
      " 5   p1                     0 non-null      object        \n",
      " 6   p1_conf                0 non-null      float64       \n",
      " 7   p1_dog                 0 non-null      bool          \n",
      " 8   p2                     0 non-null      object        \n",
      " 9   p2_conf                0 non-null      float64       \n",
      " 10  p2_dog                 0 non-null      bool          \n",
      " 11  p3                     0 non-null      object        \n",
      " 12  p3_conf                0 non-null      float64       \n",
      " 13  p3_dog                 0 non-null      bool          \n",
      " 14  Unnamed: 0             0 non-null      int64         \n",
      " 15  tweet_timestamp        0 non-null      datetime64[ns]\n",
      " 16  source                 0 non-null      object        \n",
      " 17  tweet_text             0 non-null      object        \n",
      " 18  expanded_urls          0 non-null      int64         \n",
      " 19  dog_rating_out_of_ten  0 non-null      float64       \n",
      " 20  dog_name               0 non-null      object        \n",
      " 21  dog_category           0 non-null      object        \n",
      " 22  rating                 0 non-null      int64         \n",
      "dtypes: bool(3), datetime64[ns](1), float64(4), int64(7), object(8)\n",
      "memory usage: 0.0+ bytes\n"
     ]
    }
   ],
   "source": [
    "data.info()"
   ]
  },
  {
   "cell_type": "markdown",
   "id": "d6f4443c",
   "metadata": {},
   "source": [
    "### Cleaned Completed\n",
    "### Storing Data\n",
    "### Save gathered, assessed, and cleaned master dataset to a CSV file named \"twitter_archive_master.csv\"."
   ]
  },
  {
   "cell_type": "code",
   "execution_count": 137,
   "id": "9fd3c2af",
   "metadata": {},
   "outputs": [],
   "source": [
    "data.to_csv('twitter_archive_master.csv',index=False)"
   ]
  },
  {
   "cell_type": "markdown",
   "id": "fcc0206f",
   "metadata": {},
   "source": [
    "### Analyzing and Visualizing Data\n",
    "### In this section, analyze and visualize your wrangled data. You must produce at least three (3) insights and one (1) visualization.\n",
    "\n",
    "### Q1: What is the most common dog name exist in dataset."
   ]
  },
  {
   "cell_type": "code",
   "execution_count": 138,
   "id": "4b3031b4",
   "metadata": {},
   "outputs": [],
   "source": [
    "import seaborn as sns\n",
    "import matplotlib.pyplot as plt"
   ]
  },
  {
   "cell_type": "code",
   "execution_count": 198,
   "id": "2b41972b",
   "metadata": {},
   "outputs": [
    {
     "data": {
      "image/png": "[encoded data removed]",
      "text/plain": [
       "<Figure size 1000x600 with 1 Axes>"
      ]
     },
     "metadata": {},
     "output_type": "display_data"
    }
   ],
   "source": [
    "import pandas as pd\n",
    "import matplotlib.pyplot as plt\n",
    "file_path = 'twitter-archive-enhanced.csv'\n",
    "merged_df = pd.read_csv(file_path)\n",
    "dog_name_counts = merged_df['dog_name'].dropna().value_counts().head(10)\n",
    "dog_name_counts.plot(kind='bar', figsize=(10, 6))\n",
    "plt.xlabel('Dog Names')\n",
    "plt.ylabel('Count')\n",
    "plt.title('Top 15 Dog Names')\n",
    "plt.show()"
   ]
  },
  {
   "cell_type": "markdown",
   "id": "79b67dbb",
   "metadata": {},
   "source": [
    "### It was shown from the visualization that the most popular name is a Charlie, and Lucy retriever in second as the most popular names.\n",
    "### Q2: Is there a correlation between the attributes."
   ]
  },
  {
   "cell_type": "code",
   "execution_count": 196,
   "id": "1416aa5b",
   "metadata": {},
   "outputs": [
    {
     "data": {
      "image/png": "[encoded data removed]",
      "text/plain": [
       "<Figure size 1200x800 with 2 Axes>"
      ]
     },
     "metadata": {},
     "output_type": "display_data"
    }
   ],
   "source": [
    "import pandas as pd\n",
    "import matplotlib.pyplot as plt\n",
    "import seaborn as sns\n",
    "import numpy as np\n",
    "from scipy.stats import pearsonr\n",
    "file_path = 'twitter-archive-enhanced.csv'\n",
    "data = pd.read_csv(file_path)\n",
    "numeric_data = data.select_dtypes(include=[np.number])\n",
    "corr, p_values = [], []\n",
    "for col1 in numeric_data.columns:\n",
    "    temp_corr, temp_p = [], []\n",
    "    for col2 in numeric_data.columns:\n",
    "        r, p = pearsonr(numeric_data[col1], numeric_data[col2])\n",
    "        temp_corr.append(r)\n",
    "        temp_p.append(p)\n",
    "    corr.append(temp_corr)\n",
    "    p_values.append(temp_p)\n",
    "corr = np.array(corr)\n",
    "p_values = np.array(p_values)\n",
    "# hide the upper triangle of the heatmap\n",
    "mask = np.triu(np.ones_like(corr, dtype=bool))\n",
    "# figure and axes\n",
    "plt.figure(figsize=(12, 8), dpi=100)\n",
    "ax = plt.gca()\n",
    "# color palette for the heatmap (optional)\n",
    "cmap = sns.color_palette(\"coolwarm\", as_cmap=True)\n",
    "# Create the heatmap with annotations and masking the upper triangle\n",
    "sns.heatmap(corr, mask=mask, annot=True, linewidths=1, linecolor='white', cmap=cmap, ax=ax, cbar_kws={'label': 'Correlation'})\n",
    "# plot title\n",
    "plt.title('Correlation Analysis with p-Values', fontsize=16)\n",
    "# appearance of the plot (optional)\n",
    "ax.spines['top'].set_visible(False)\n",
    "ax.spines['right'].set_visible(False)\n",
    "ax.spines['bottom'].set_linewidth(0.5)\n",
    "ax.spines['left'].set_linewidth(0.5)\n",
    "plt.savefig('correlation_heatmap_with_p_values.png', dpi=300, bbox_inches='tight')\n",
    "plt.show()"
   ]
  },
  {
   "cell_type": "code",
   "execution_count": 152,
   "id": "9b14a10b",
   "metadata": {},
   "outputs": [
    {
     "data": {
      "image/png": "[encoded data removed]",
      "text/plain": [
       "<Figure size 1000x600 with 1 Axes>"
      ]
     },
     "metadata": {},
     "output_type": "display_data"
    }
   ],
   "source": [
    "import matplotlib.pyplot as plt\n",
    "import seaborn as sns\n",
    "\n",
    "sns.set(style=\"whitegrid\")\n",
    "\n",
    "# figure and axes\n",
    "plt.figure(figsize=(10, 6))\n",
    "ax = sns.countplot(data=data, x='dog_category', hue='source', palette='Set2')\n",
    "\n",
    "# plot labels and title\n",
    "ax.set_xlabel('Dog Category', fontsize=14)\n",
    "ax.set_ylabel('Count', fontsize=14)\n",
    "ax.set_title('Tweet Source Distribution by Dog Category', fontsize=16)\n",
    "\n",
    "# x-axis labels for readability\n",
    "ax.set_xticklabels(ax.get_xticklabels(), rotation=45)\n",
    "\n",
    "# specify title and location\n",
    "ax.legend(title='Source', loc='upper right')\n",
    "plt.savefig('professional_plot.png', dpi=300, bbox_inches='tight')\n",
    "plt.show()"
   ]
  },
  {
   "cell_type": "markdown",
   "id": "9366d279",
   "metadata": {},
   "source": [
    "### Q3: About breeds dogs, what are most and less breeds received favorites.\n",
    "### Most Favorite:"
   ]
  },
  {
   "cell_type": "code",
   "execution_count": 171,
   "id": "75355dea",
   "metadata": {},
   "outputs": [
    {
     "name": "stdout",
     "output_type": "stream",
     "text": [
      "Top Dog Breeds by Favorite Count\n"
     ]
    },
    {
     "data": {
      "text/html": [
       "<style type=\"text/css\">\n",
       "#T_bdac5 th {\n",
       "  text-align: center;\n",
       "}\n",
       "#T_bdac5  td {\n",
       "  text-align: center;\n",
       "}\n",
       "#T_bdac5 tr:nth-child(even) {\n",
       "  background-color: lightgray;\n",
       "}\n",
       "#T_bdac5 tr:nth-child(odd) {\n",
       "  background-color: white;\n",
       "}\n",
       "</style>\n",
       "<table id=\"T_bdac5\">\n",
       "  <thead>\n",
       "    <tr>\n",
       "      <th class=\"blank level0\" >&nbsp;</th>\n",
       "      <th id=\"T_bdac5_level0_col0\" class=\"col_heading level0 col0\" >Breed</th>\n",
       "      <th id=\"T_bdac5_level0_col1\" class=\"col_heading level0 col1\" >Favorite Count</th>\n",
       "    </tr>\n",
       "  </thead>\n",
       "  <tbody>\n",
       "    <tr>\n",
       "      <th id=\"T_bdac5_level0_row0\" class=\"row_heading level0 row0\" >0</th>\n",
       "      <td id=\"T_bdac5_row0_col0\" class=\"data row0 col0\" >Lakeland Terrier</td>\n",
       "      <td id=\"T_bdac5_row0_col1\" class=\"data row0 col1\" >132810</td>\n",
       "    </tr>\n",
       "    <tr>\n",
       "      <th id=\"T_bdac5_level0_row1\" class=\"row_heading level0 row1\" >1</th>\n",
       "      <td id=\"T_bdac5_row1_col0\" class=\"data row1 col0\" >Labrador Retriever</td>\n",
       "      <td id=\"T_bdac5_row1_col1\" class=\"data row1 col1\" >131075</td>\n",
       "    </tr>\n",
       "    <tr>\n",
       "      <th id=\"T_bdac5_level0_row2\" class=\"row_heading level0 row2\" >2</th>\n",
       "      <td id=\"T_bdac5_row2_col0\" class=\"data row2 col0\" >English Springer</td>\n",
       "      <td id=\"T_bdac5_row2_col1\" class=\"data row2 col1\" >107956</td>\n",
       "    </tr>\n",
       "    <tr>\n",
       "      <th id=\"T_bdac5_level0_row3\" class=\"row_heading level0 row3\" >3</th>\n",
       "      <td id=\"T_bdac5_row3_col0\" class=\"data row3 col0\" >Chihuahua</td>\n",
       "      <td id=\"T_bdac5_row3_col1\" class=\"data row3 col1\" >107015</td>\n",
       "    </tr>\n",
       "    <tr>\n",
       "      <th id=\"T_bdac5_level0_row4\" class=\"row_heading level0 row4\" >4</th>\n",
       "      <td id=\"T_bdac5_row4_col0\" class=\"data row4 col0\" >French Bulldog</td>\n",
       "      <td id=\"T_bdac5_row4_col1\" class=\"data row4 col1\" >106827</td>\n",
       "    </tr>\n",
       "    <tr>\n",
       "      <th id=\"T_bdac5_level0_row5\" class=\"row_heading level0 row5\" >5</th>\n",
       "      <td id=\"T_bdac5_row5_col0\" class=\"data row5 col0\" >Standard Poodle</td>\n",
       "      <td id=\"T_bdac5_row5_col1\" class=\"data row5 col1\" >95450</td>\n",
       "    </tr>\n",
       "  </tbody>\n",
       "</table>\n"
      ],
      "text/plain": [
       "<pandas.io.formats.style.Styler at 0x7f057ca82590>"
      ]
     },
     "execution_count": 171,
     "metadata": {},
     "output_type": "execute_result"
    }
   ],
   "source": [
    "print(\"Top Dog Breeds by Favorite Count\")\n",
    "styler"
   ]
  },
  {
   "cell_type": "markdown",
   "metadata": {},
   "source": [
    "### Answering the Research Question\n",
    "\n",
    "In this analysis, we aimed to explore and analyze dog ratings on Twitter using the WeRateDogs Twitter archive dataset. After conducting the data wrangling and analysis, we have obtained the following key insights:\n",
    "\n",
    "* Dog Categories: The analysis revealed the prevalence of different dog categories within the dataset, providing insights into the popularity and distribution of various categories.\n",
    "\n",
    "* Dog Ratings: By examining the dog ratings, we found that the majority of ratings centered around higher scores, indicating a generally positive perception of dogs by the WeRateDogs community.\n",
    "\n",
    "* Missing Dog Names: We quantified the proportion of missing dog names, which helped evaluate the completeness of the dataset.\n",
    "\n",
    "These insights significantly contributed to our ability to answer the research question and provided valuable knowledge about the prevalence of dog categories, the range of dog ratings, and the completeness of dog name data."
   ]
  },
  {
   "cell_type": "markdown",
   "id": "10d7a40e",
   "metadata": {},
   "source": [
    "## Sources\n",
    "https://stackoverflow.com/questions/45123924/convert-pandas-dataframe-from-wide-to-long https://pandas.pydata.org/pandas-docs/stable/generated/pandas.wide_to_long.html https://aviaryan.in/blog/gsoc/downloading-files-from-urls.html https://stackoverflow.com/questions/44699682/how-to-save-a-file-downloaded-from-requests-to-another-directory https://wiki.python.org/moin/HandlingExceptions http://pbpython.com/pandas-list-dict.html http://pandas.pydata.org/pandas-docs/stable/indexing.html#indexing-view-versus-copy https://stackoverflow.com/questions/13851535/how-to-delete-rows-from-a-pandas-dataframe-based-on-a-conditional-expression https://stackoverflow.com/questions/20490274/how-to-reset-index-in-a-pandas-data-frame https://stackoverflow.com/questions/13842088/set-value-for-particular-cell-in-pandas-dataframe-using-index https://stackoverflow.com/questions/11346283/renaming-columns-in-pandas https://stackoverflow.com/questions/40319743/plotting-a-bar-graph-in-python-with-matplotlib-pyplot https://pythonspot.com/matplotlib-bar-chart/ https://stackoverflow.com/questions/46799662/missing-data-in-pandas-merge https://stackoverflow.com/questions/46754398/pandas-merge-returns-nan https://pandas.pydata.org/pandas-docs/stable/merging.html https://www.youtube.com/watch?v=9uPTA9racZ0 https://stackabuse.com/reading-and-writing-json-to-a-file-in-python/ https://stackoverflow.com/questions/12451431/loading-and-parsing-a-json-file-with-multiple-json-objects-in-python/12451465#12451465"
   ]
  },
  {
   "cell_type": "markdown",
   "id": "d5559f59",
   "metadata": {},
   "source": [
    "## Conclusion\n",
    "this methodical framework for real-world data manipulation ensures clarity and accessibility for the audience. It elucidates the systematic progression of data collection, evaluation, and refinement, culminating in data analysis aimed at tackling a particular research inquiry."
   ]
  },
  {
   "cell_type": "markdown",
   "id": "9c0df283",
   "metadata": {},
   "source": [
    "##  Reflection\n",
    "Upon additional time availability, we could delve deeper into addressing further data quality and structural concerns and embark on a more extensive exploration of research inquiries. This project serves as a springboard for more profound analysis and comprehension of the datasets."
   ]
  },
  {
   "cell_type": "code",
   "execution_count": null,
   "id": "76fb8d2e",
   "metadata": {},
   "outputs": [],
   "source": []
  }
 ],
 "metadata": {
  "kernelspec": {
   "display_name": "Python 3 (ipykernel)",
   "language": "python",
   "name": "python3"
  },
  "language_info": {
   "codemirror_mode": {
    "name": "ipython",
    "version": 3
   },
   "file_extension": ".py",
   "mimetype": "text/x-python",
   "name": "python",
   "nbconvert_exporter": "python",
   "pygments_lexer": "ipython3",
   "version": "3.11.5"
  }
 },
 "nbformat": 4,
 "nbformat_minor": 5
}
